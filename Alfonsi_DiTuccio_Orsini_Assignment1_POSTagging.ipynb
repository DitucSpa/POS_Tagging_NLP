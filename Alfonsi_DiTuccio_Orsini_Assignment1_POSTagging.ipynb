{
  "cells": [
    {
      "cell_type": "markdown",
      "source": [
        "# Assignment 1: Alfonsi, Di Tuccio, Orsini - POS TAGGING\n"
      ],
      "metadata": {
        "id": "Vtw8mh8y2den"
      }
    },
    {
      "cell_type": "markdown",
      "source": [
        "In this assignment, we tested four different neural architectures (BiLSTM/ GRU + Dense Layers) for PoS tagging. One important aspect of this task was the embedding of OOVs words, which we handled by choosing the mean of the word context embeddings when it was possible. Finally, the two best models according to the macro F1 score are the BiLSTM followed by a Dense layer (BiLSTM model) and the two-layer BiLSTM followed by a Dense Layer (ML-BiLSTM model), which both perform with an F1 score equal to 0.79.\n",
        "\n",
        "This notebook is organized in 14 chapters:\n",
        "- chapter 1: import libraries and set the random seed;\n",
        "- chapter 2: download of the dataset folder;\n",
        "- chapter 3: Train-Validation-Test split + preprocessing of the data;\n",
        "- chapter 4: some statistics about the data;\n",
        "- chapter 5: download of the GloVe embedding;\n",
        "- chapter 6: OOV vocabulary;\n",
        "- chapter 7: words embedding;\n",
        "- chapter 8: padding and truncation for X_train, X_val, X_test;\n",
        "- chapter 9: padding and truncation for y_train, y_val, y_test;\n",
        "- chapter 10: training of the models;\n",
        "- chapter 11: evaluation of the model on validation set;\n",
        "- chapter 12: BiLSTM model performance on test set;\n",
        "- chapter 13: ML-BiLSTM model performance on test set;\n",
        "- chapter 14: Bibliography and sitography"
      ],
      "metadata": {
        "id": "FdwsJKA-7k9X"
      }
    },
    {
      "cell_type": "markdown",
      "source": [
        "## 1. Random Seed"
      ],
      "metadata": {
        "id": "g10GGVj9hlFH"
      }
    },
    {
      "cell_type": "code",
      "source": [
        "import random\n",
        "from numpy.random import seed\n",
        "import numpy as np\n",
        "import tensorflow as tf\n",
        "import os\n",
        "from keras.layers import Embedding, Bidirectional, LSTM, Dense, GRU, Input, Masking, TimeDistributed, Dropout\n",
        "from keras.models import Model\n",
        "\n",
        "\n",
        "def set_reproducibility(seed):\n",
        "    random.seed(seed)\n",
        "    np.random.seed(seed)\n",
        "    tf.random.set_seed(seed)\n",
        "    os.environ['TF_DETERMINISTIC_OPS'] = '1'\n",
        "    os.environ['PYTHONHASHSEED'] = str(seed)\n",
        "    \n",
        "\n",
        "# at the end of the notebook, you'll be able to see results using different seeds\n",
        "random_seed = 10\n",
        "set_reproducibility(random_seed)"
      ],
      "metadata": {
        "id": "IbD6ZwAjhjPq"
      },
      "execution_count": 1,
      "outputs": []
    },
    {
      "cell_type": "markdown",
      "metadata": {
        "id": "jY0MAkV_8PlE"
      },
      "source": [
        "## 2. Download of the dataset folder"
      ]
    },
    {
      "cell_type": "code",
      "execution_count": 2,
      "metadata": {
        "colab": {
          "base_uri": "https://localhost:8080/"
        },
        "id": "nHVbocdj8Gzq",
        "outputId": "e65f6fab-1768-48b2-f98f-319490f72c13"
      },
      "outputs": [
        {
          "output_type": "stream",
          "name": "stdout",
          "text": [
            "Successful download\n",
            "Successful extraction\n"
          ]
        }
      ],
      "source": [
        "import zipfile\n",
        "import urllib\n",
        "    \n",
        "url = \"https://raw.githubusercontent.com/nltk/nltk_data/gh-pages/packages/corpora/dependency_treebank.zip\"\n",
        "\n",
        "data_path = os.path.join(os.getcwd(),\"\")\n",
        "data_zip = os.path.join(os.getcwd(),\"\", \"dependency_treebank.zip\")\n",
        "\n",
        "if not os.path.exists(data_path):\n",
        "    os.makedirs(data_path)\n",
        "\n",
        "if not os.path.exists(data_zip):\n",
        "    urllib.request.urlretrieve(url, data_zip)\n",
        "    print(\"Successful download\")\n",
        "\n",
        "with zipfile.ZipFile(data_zip, 'r') as zip_ref:\n",
        "    zip_ref.extractall(path=data_path)\n",
        "    print(\"Successful extraction\")"
      ]
    },
    {
      "cell_type": "markdown",
      "metadata": {
        "id": "nH089Sbn8a-f"
      },
      "source": [
        "## 3. Train-Validation-Test split + preprocessing"
      ]
    },
    {
      "cell_type": "markdown",
      "metadata": {
        "id": "u4bb3nGIzLXG"
      },
      "source": [
        "First we upload all the .dp file names in the folder."
      ]
    },
    {
      "cell_type": "code",
      "execution_count": 3,
      "metadata": {
        "id": "hmcNyTp78YWB"
      },
      "outputs": [],
      "source": [
        "path = \"dependency_treebank\"\n",
        "filenames = []\n",
        "for file in os.listdir(\"dependency_treebank\"):\n",
        "    if file.endswith(\".dp\"):\n",
        "        filenames.append(file)\n",
        "filenames.sort()"
      ]
    },
    {
      "cell_type": "markdown",
      "metadata": {
        "id": "p68fQWOJzVHI"
      },
      "source": [
        "Each document of the dataset contains a column with the words of the sentences, while a second column contains the corresponding POS tags for each word. The dataset contains also a third column, which was ignored during this assignment according to the instructions. Since the first two columns are separated by a tabulation, we kept the correspondence tag for each word and then separated each sentence with the occurrence of a single dot. When each word is extracted by the document, we applied a preprocessing step by reducing all the characters to lowercase, while the POS tags for curly and round brackets are substituted by their punctuation."
      ]
    },
    {
      "cell_type": "code",
      "execution_count": 4,
      "metadata": {
        "id": "aGr4qJsdxw0d"
      },
      "outputs": [],
      "source": [
        "def preprocessing(text):\n",
        "  return text.replace('-LRB-', '(').replace('-RRB-', ')').replace('-LCB-', '{').replace('-RCB-', '}').lower()"
      ]
    },
    {
      "cell_type": "markdown",
      "metadata": {
        "id": "shHYRaMTznYx"
      },
      "source": [
        "Then, we upload the data into a single dataframe with:\n",
        "- Words (each sentence is stored in the words column; so, we've splitted into sentences instead documents);\n",
        "- Tags (the tags for the sentence);\n",
        "- Document (the document where we can find the sentence);\n",
        "- Split (if the sentence is in the training, val or test set)."
      ]
    },
    {
      "cell_type": "code",
      "execution_count": 5,
      "metadata": {
        "colab": {
          "base_uri": "https://localhost:8080/",
          "height": 0
        },
        "id": "SiHM9z-Q8eaS",
        "outputId": "4c74c45c-8460-458a-dd38-212d2c564ec7"
      },
      "outputs": [
        {
          "output_type": "execute_result",
          "data": {
            "text/plain": [
              "                                               Words  \\\n",
              "0  pierre vinken , 61 years old , will join the b...   \n",
              "1  mr. vinken is chairman of elsevier n.v. , the ...   \n",
              "2  rudolph agnew , 55 years old and former chairm...   \n",
              "3  a form of asbestos once used to make kent ciga...   \n",
              "\n",
              "                                                Tags  Document  Split  \n",
              "0  nnp nnp , cd nns jj , md vb dt nn in dt jj nn ...         1  train  \n",
              "1        nnp nnp vbz nn in nnp nnp , dt nnp vbg nn .         1  train  \n",
              "2  nnp nnp , cd nns jj cc jj nn in nnp nnp nnp nn...         2  train  \n",
              "3  dt nn in nn rb vbn to vb nnp nn nns vbz vbn dt...         3  train  "
            ],
            "text/html": [
              "\n",
              "  <div id=\"df-cc22ba8e-41b0-41b3-bb74-d7a32cef5cc6\">\n",
              "    <div class=\"colab-df-container\">\n",
              "      <div>\n",
              "<style scoped>\n",
              "    .dataframe tbody tr th:only-of-type {\n",
              "        vertical-align: middle;\n",
              "    }\n",
              "\n",
              "    .dataframe tbody tr th {\n",
              "        vertical-align: top;\n",
              "    }\n",
              "\n",
              "    .dataframe thead th {\n",
              "        text-align: right;\n",
              "    }\n",
              "</style>\n",
              "<table border=\"1\" class=\"dataframe\">\n",
              "  <thead>\n",
              "    <tr style=\"text-align: right;\">\n",
              "      <th></th>\n",
              "      <th>Words</th>\n",
              "      <th>Tags</th>\n",
              "      <th>Document</th>\n",
              "      <th>Split</th>\n",
              "    </tr>\n",
              "  </thead>\n",
              "  <tbody>\n",
              "    <tr>\n",
              "      <th>0</th>\n",
              "      <td>pierre vinken , 61 years old , will join the b...</td>\n",
              "      <td>nnp nnp , cd nns jj , md vb dt nn in dt jj nn ...</td>\n",
              "      <td>1</td>\n",
              "      <td>train</td>\n",
              "    </tr>\n",
              "    <tr>\n",
              "      <th>1</th>\n",
              "      <td>mr. vinken is chairman of elsevier n.v. , the ...</td>\n",
              "      <td>nnp nnp vbz nn in nnp nnp , dt nnp vbg nn .</td>\n",
              "      <td>1</td>\n",
              "      <td>train</td>\n",
              "    </tr>\n",
              "    <tr>\n",
              "      <th>2</th>\n",
              "      <td>rudolph agnew , 55 years old and former chairm...</td>\n",
              "      <td>nnp nnp , cd nns jj cc jj nn in nnp nnp nnp nn...</td>\n",
              "      <td>2</td>\n",
              "      <td>train</td>\n",
              "    </tr>\n",
              "    <tr>\n",
              "      <th>3</th>\n",
              "      <td>a form of asbestos once used to make kent ciga...</td>\n",
              "      <td>dt nn in nn rb vbn to vb nnp nn nns vbz vbn dt...</td>\n",
              "      <td>3</td>\n",
              "      <td>train</td>\n",
              "    </tr>\n",
              "  </tbody>\n",
              "</table>\n",
              "</div>\n",
              "      <button class=\"colab-df-convert\" onclick=\"convertToInteractive('df-cc22ba8e-41b0-41b3-bb74-d7a32cef5cc6')\"\n",
              "              title=\"Convert this dataframe to an interactive table.\"\n",
              "              style=\"display:none;\">\n",
              "        \n",
              "  <svg xmlns=\"http://www.w3.org/2000/svg\" height=\"24px\"viewBox=\"0 0 24 24\"\n",
              "       width=\"24px\">\n",
              "    <path d=\"M0 0h24v24H0V0z\" fill=\"none\"/>\n",
              "    <path d=\"M18.56 5.44l.94 2.06.94-2.06 2.06-.94-2.06-.94-.94-2.06-.94 2.06-2.06.94zm-11 1L8.5 8.5l.94-2.06 2.06-.94-2.06-.94L8.5 2.5l-.94 2.06-2.06.94zm10 10l.94 2.06.94-2.06 2.06-.94-2.06-.94-.94-2.06-.94 2.06-2.06.94z\"/><path d=\"M17.41 7.96l-1.37-1.37c-.4-.4-.92-.59-1.43-.59-.52 0-1.04.2-1.43.59L10.3 9.45l-7.72 7.72c-.78.78-.78 2.05 0 2.83L4 21.41c.39.39.9.59 1.41.59.51 0 1.02-.2 1.41-.59l7.78-7.78 2.81-2.81c.8-.78.8-2.07 0-2.86zM5.41 20L4 18.59l7.72-7.72 1.47 1.35L5.41 20z\"/>\n",
              "  </svg>\n",
              "      </button>\n",
              "      \n",
              "  <style>\n",
              "    .colab-df-container {\n",
              "      display:flex;\n",
              "      flex-wrap:wrap;\n",
              "      gap: 12px;\n",
              "    }\n",
              "\n",
              "    .colab-df-convert {\n",
              "      background-color: #E8F0FE;\n",
              "      border: none;\n",
              "      border-radius: 50%;\n",
              "      cursor: pointer;\n",
              "      display: none;\n",
              "      fill: #1967D2;\n",
              "      height: 32px;\n",
              "      padding: 0 0 0 0;\n",
              "      width: 32px;\n",
              "    }\n",
              "\n",
              "    .colab-df-convert:hover {\n",
              "      background-color: #E2EBFA;\n",
              "      box-shadow: 0px 1px 2px rgba(60, 64, 67, 0.3), 0px 1px 3px 1px rgba(60, 64, 67, 0.15);\n",
              "      fill: #174EA6;\n",
              "    }\n",
              "\n",
              "    [theme=dark] .colab-df-convert {\n",
              "      background-color: #3B4455;\n",
              "      fill: #D2E3FC;\n",
              "    }\n",
              "\n",
              "    [theme=dark] .colab-df-convert:hover {\n",
              "      background-color: #434B5C;\n",
              "      box-shadow: 0px 1px 3px 1px rgba(0, 0, 0, 0.15);\n",
              "      filter: drop-shadow(0px 1px 2px rgba(0, 0, 0, 0.3));\n",
              "      fill: #FFFFFF;\n",
              "    }\n",
              "  </style>\n",
              "\n",
              "      <script>\n",
              "        const buttonEl =\n",
              "          document.querySelector('#df-cc22ba8e-41b0-41b3-bb74-d7a32cef5cc6 button.colab-df-convert');\n",
              "        buttonEl.style.display =\n",
              "          google.colab.kernel.accessAllowed ? 'block' : 'none';\n",
              "\n",
              "        async function convertToInteractive(key) {\n",
              "          const element = document.querySelector('#df-cc22ba8e-41b0-41b3-bb74-d7a32cef5cc6');\n",
              "          const dataTable =\n",
              "            await google.colab.kernel.invokeFunction('convertToInteractive',\n",
              "                                                     [key], {});\n",
              "          if (!dataTable) return;\n",
              "\n",
              "          const docLinkHtml = 'Like what you see? Visit the ' +\n",
              "            '<a target=\"_blank\" href=https://colab.research.google.com/notebooks/data_table.ipynb>data table notebook</a>'\n",
              "            + ' to learn more about interactive tables.';\n",
              "          element.innerHTML = '';\n",
              "          dataTable['output_type'] = 'display_data';\n",
              "          await google.colab.output.renderOutput(dataTable, element);\n",
              "          const docLink = document.createElement('div');\n",
              "          docLink.innerHTML = docLinkHtml;\n",
              "          element.appendChild(docLink);\n",
              "        }\n",
              "      </script>\n",
              "    </div>\n",
              "  </div>\n",
              "  "
            ]
          },
          "metadata": {},
          "execution_count": 5
        }
      ],
      "source": [
        "import pandas as pd\n",
        "\n",
        "# we've stored all the sentences in a list\n",
        "# then the list is converted to a dataframe\n",
        "# we can't use pd.concat in the loop (O(pd.concat) > O(list.append))\n",
        "df_list = []\n",
        "\n",
        "split = {'train':100, 'validation':150}\n",
        "for i in range(len(filenames)):\n",
        "  with open(os.path.join(path, filenames[i]), 'r') as f:\n",
        "    words = []\n",
        "    tags = []\n",
        "    for line in f:\n",
        "      try:\n",
        "        # we split each line using the tabulation\n",
        "        tmp = line.split(\"\\t\")\n",
        "\n",
        "        # if the line contains only the word or white space without tags, raise error\n",
        "        tags.append(preprocessing(tmp[1]))\n",
        "        words.append(preprocessing(tmp[0]))\n",
        "        \n",
        "        # if the word is exactly a point, the sentence is over\n",
        "        if tmp[0] == \".\":\n",
        "          split_df = 'test'\n",
        "          if i < split['train']: split_df = 'train'\n",
        "          elif i < split['validation']: split_df = 'validation'\n",
        "\n",
        "          # we use a white space between each words and tags\n",
        "          data = {\"Words\":' '.join(words), \"Tags\":' '.join(tags), 'Document':i+1, 'Split':split_df}\n",
        "          df_list.append(data)\n",
        "          words = []\n",
        "          tags = []\n",
        "      \n",
        "      # if the line contains only white space\n",
        "      except:\n",
        "        pass\n",
        "df = pd.DataFrame(df_list)\n",
        "df.head(4)"
      ]
    },
    {
      "cell_type": "markdown",
      "metadata": {
        "id": "NMkxOXYj12Lf"
      },
      "source": [
        "After that, we split the dataframe into train, test and validation according to the instructions:"
      ]
    },
    {
      "cell_type": "code",
      "execution_count": 6,
      "metadata": {
        "colab": {
          "base_uri": "https://localhost:8080/",
          "height": 0
        },
        "id": "tm5nZjNj8jxy",
        "outputId": "ce90809d-0b12-44de-e38d-b07501d0f940"
      },
      "outputs": [
        {
          "output_type": "execute_result",
          "data": {
            "text/plain": [
              "                                                  Words  \\\n",
              "3192  intelogic trace inc. , san antonio , texas , s...   \n",
              "3193  the move boosts intelogic chairman asher edelm...   \n",
              "3194  mr. ackerman already is seeking to oust mr. ed...   \n",
              "3195  the action followed by one day an intelogic an...   \n",
              "\n",
              "                                                   Tags  Document Split  \n",
              "3192  nnp nnp nnp , nnp nnp , nnp , vbd prp vbd cd c...       151  test  \n",
              "3193  dt nn vbz nnp nnp nnp nnp pos nn to cd nn in c...       151  test  \n",
              "3194  nnp nnp rb vbz vbg to vb nnp nnp in nn in nnp ...       151  test  \n",
              "3195  dt nn vbn in cd nn dt nnp nn in prp md vb dt n...       151  test  "
            ],
            "text/html": [
              "\n",
              "  <div id=\"df-c73e0d5d-0787-4837-b23e-f8d5419c1d82\">\n",
              "    <div class=\"colab-df-container\">\n",
              "      <div>\n",
              "<style scoped>\n",
              "    .dataframe tbody tr th:only-of-type {\n",
              "        vertical-align: middle;\n",
              "    }\n",
              "\n",
              "    .dataframe tbody tr th {\n",
              "        vertical-align: top;\n",
              "    }\n",
              "\n",
              "    .dataframe thead th {\n",
              "        text-align: right;\n",
              "    }\n",
              "</style>\n",
              "<table border=\"1\" class=\"dataframe\">\n",
              "  <thead>\n",
              "    <tr style=\"text-align: right;\">\n",
              "      <th></th>\n",
              "      <th>Words</th>\n",
              "      <th>Tags</th>\n",
              "      <th>Document</th>\n",
              "      <th>Split</th>\n",
              "    </tr>\n",
              "  </thead>\n",
              "  <tbody>\n",
              "    <tr>\n",
              "      <th>3192</th>\n",
              "      <td>intelogic trace inc. , san antonio , texas , s...</td>\n",
              "      <td>nnp nnp nnp , nnp nnp , nnp , vbd prp vbd cd c...</td>\n",
              "      <td>151</td>\n",
              "      <td>test</td>\n",
              "    </tr>\n",
              "    <tr>\n",
              "      <th>3193</th>\n",
              "      <td>the move boosts intelogic chairman asher edelm...</td>\n",
              "      <td>dt nn vbz nnp nnp nnp nnp pos nn to cd nn in c...</td>\n",
              "      <td>151</td>\n",
              "      <td>test</td>\n",
              "    </tr>\n",
              "    <tr>\n",
              "      <th>3194</th>\n",
              "      <td>mr. ackerman already is seeking to oust mr. ed...</td>\n",
              "      <td>nnp nnp rb vbz vbg to vb nnp nnp in nn in nnp ...</td>\n",
              "      <td>151</td>\n",
              "      <td>test</td>\n",
              "    </tr>\n",
              "    <tr>\n",
              "      <th>3195</th>\n",
              "      <td>the action followed by one day an intelogic an...</td>\n",
              "      <td>dt nn vbn in cd nn dt nnp nn in prp md vb dt n...</td>\n",
              "      <td>151</td>\n",
              "      <td>test</td>\n",
              "    </tr>\n",
              "  </tbody>\n",
              "</table>\n",
              "</div>\n",
              "      <button class=\"colab-df-convert\" onclick=\"convertToInteractive('df-c73e0d5d-0787-4837-b23e-f8d5419c1d82')\"\n",
              "              title=\"Convert this dataframe to an interactive table.\"\n",
              "              style=\"display:none;\">\n",
              "        \n",
              "  <svg xmlns=\"http://www.w3.org/2000/svg\" height=\"24px\"viewBox=\"0 0 24 24\"\n",
              "       width=\"24px\">\n",
              "    <path d=\"M0 0h24v24H0V0z\" fill=\"none\"/>\n",
              "    <path d=\"M18.56 5.44l.94 2.06.94-2.06 2.06-.94-2.06-.94-.94-2.06-.94 2.06-2.06.94zm-11 1L8.5 8.5l.94-2.06 2.06-.94-2.06-.94L8.5 2.5l-.94 2.06-2.06.94zm10 10l.94 2.06.94-2.06 2.06-.94-2.06-.94-.94-2.06-.94 2.06-2.06.94z\"/><path d=\"M17.41 7.96l-1.37-1.37c-.4-.4-.92-.59-1.43-.59-.52 0-1.04.2-1.43.59L10.3 9.45l-7.72 7.72c-.78.78-.78 2.05 0 2.83L4 21.41c.39.39.9.59 1.41.59.51 0 1.02-.2 1.41-.59l7.78-7.78 2.81-2.81c.8-.78.8-2.07 0-2.86zM5.41 20L4 18.59l7.72-7.72 1.47 1.35L5.41 20z\"/>\n",
              "  </svg>\n",
              "      </button>\n",
              "      \n",
              "  <style>\n",
              "    .colab-df-container {\n",
              "      display:flex;\n",
              "      flex-wrap:wrap;\n",
              "      gap: 12px;\n",
              "    }\n",
              "\n",
              "    .colab-df-convert {\n",
              "      background-color: #E8F0FE;\n",
              "      border: none;\n",
              "      border-radius: 50%;\n",
              "      cursor: pointer;\n",
              "      display: none;\n",
              "      fill: #1967D2;\n",
              "      height: 32px;\n",
              "      padding: 0 0 0 0;\n",
              "      width: 32px;\n",
              "    }\n",
              "\n",
              "    .colab-df-convert:hover {\n",
              "      background-color: #E2EBFA;\n",
              "      box-shadow: 0px 1px 2px rgba(60, 64, 67, 0.3), 0px 1px 3px 1px rgba(60, 64, 67, 0.15);\n",
              "      fill: #174EA6;\n",
              "    }\n",
              "\n",
              "    [theme=dark] .colab-df-convert {\n",
              "      background-color: #3B4455;\n",
              "      fill: #D2E3FC;\n",
              "    }\n",
              "\n",
              "    [theme=dark] .colab-df-convert:hover {\n",
              "      background-color: #434B5C;\n",
              "      box-shadow: 0px 1px 3px 1px rgba(0, 0, 0, 0.15);\n",
              "      filter: drop-shadow(0px 1px 2px rgba(0, 0, 0, 0.3));\n",
              "      fill: #FFFFFF;\n",
              "    }\n",
              "  </style>\n",
              "\n",
              "      <script>\n",
              "        const buttonEl =\n",
              "          document.querySelector('#df-c73e0d5d-0787-4837-b23e-f8d5419c1d82 button.colab-df-convert');\n",
              "        buttonEl.style.display =\n",
              "          google.colab.kernel.accessAllowed ? 'block' : 'none';\n",
              "\n",
              "        async function convertToInteractive(key) {\n",
              "          const element = document.querySelector('#df-c73e0d5d-0787-4837-b23e-f8d5419c1d82');\n",
              "          const dataTable =\n",
              "            await google.colab.kernel.invokeFunction('convertToInteractive',\n",
              "                                                     [key], {});\n",
              "          if (!dataTable) return;\n",
              "\n",
              "          const docLinkHtml = 'Like what you see? Visit the ' +\n",
              "            '<a target=\"_blank\" href=https://colab.research.google.com/notebooks/data_table.ipynb>data table notebook</a>'\n",
              "            + ' to learn more about interactive tables.';\n",
              "          element.innerHTML = '';\n",
              "          dataTable['output_type'] = 'display_data';\n",
              "          await google.colab.output.renderOutput(dataTable, element);\n",
              "          const docLink = document.createElement('div');\n",
              "          docLink.innerHTML = docLinkHtml;\n",
              "          element.appendChild(docLink);\n",
              "        }\n",
              "      </script>\n",
              "    </div>\n",
              "  </div>\n",
              "  "
            ]
          },
          "metadata": {},
          "execution_count": 6
        }
      ],
      "source": [
        "train = df[df.Split=='train']\n",
        "validation = df[df.Split=='validation']\n",
        "test = df[df.Split=='test']\n",
        "test.head(4)"
      ]
    },
    {
      "cell_type": "markdown",
      "metadata": {
        "id": "ZZrLvFqj2a-a"
      },
      "source": [
        "## 4. Some Statistics"
      ]
    },
    {
      "cell_type": "markdown",
      "metadata": {
        "id": "F52c1w2K2fgS"
      },
      "source": [
        "Before going into deep with the vocabulary and Glove, we saw the distribution of the length of each sentece of the training set, since in a real world scenario it is the only set of data available to train the model. In particular, the histogram below shows that the great majority of the sentences has length between 2 and 50, while only few sentences has length between 50 and 250 (which is the max length)."
      ]
    },
    {
      "cell_type": "code",
      "execution_count": 7,
      "metadata": {
        "colab": {
          "base_uri": "https://localhost:8080/",
          "height": 0
        },
        "id": "lHwIUYRCLdvx",
        "outputId": "16ad9a17-7eb6-4dc8-c121-f436d18a32af"
      },
      "outputs": [
        {
          "output_type": "execute_result",
          "data": {
            "text/plain": [
              "array([[<matplotlib.axes._subplots.AxesSubplot object at 0x7f53cef527c0>]],\n",
              "      dtype=object)"
            ]
          },
          "metadata": {},
          "execution_count": 7
        },
        {
          "output_type": "display_data",
          "data": {
            "text/plain": [
              "<Figure size 720x504 with 1 Axes>"
            ],
            "image/png": "[encoded data removed]"
          },
          "metadata": {
            "needs_background": "light"
          }
        }
      ],
      "source": [
        "pd.DataFrame(train.Words.apply(lambda x: x.split(\" \")).apply(len)).hist(grid=True, bins=60, figsize=(10,7))"
      ]
    },
    {
      "cell_type": "markdown",
      "metadata": {
        "id": "c-NAkos-3yML"
      },
      "source": [
        "Now we compute some statistics: as we can see from the following code, there are 1936 sentences, the mean is about 24.5 words and the max is 250. Since the model requires a fixed input length, it is important to choose it very carefully:\n",
        "\n",
        "- taking the highest value means doing a lot of padding (and here we have only two sentences with over 100 words;\n",
        "- taking the mean value means to truncate the half of the sentences.\n",
        "In the end, we've decided to take the 75% percentile (a compromise between the max and the mean)."
      ]
    },
    {
      "cell_type": "code",
      "execution_count": 8,
      "metadata": {
        "colab": {
          "base_uri": "https://localhost:8080/",
          "height": 0
        },
        "id": "pEY9wDho3NN-",
        "outputId": "8abbf339-abab-4092-bacf-dc38cafc1114"
      },
      "outputs": [
        {
          "output_type": "stream",
          "name": "stdout",
          "text": [
            "The 75% quantile is:  31 words\n"
          ]
        },
        {
          "output_type": "execute_result",
          "data": {
            "text/plain": [
              "             Words\n",
              "count  1936.000000\n",
              "mean     24.459194\n",
              "std      12.686699\n",
              "min       2.000000\n",
              "25%      16.000000\n",
              "50%      23.000000\n",
              "75%      31.000000\n",
              "max     250.000000"
            ],
            "text/html": [
              "\n",
              "  <div id=\"df-754daaac-3a3d-4575-b9e1-d1e6c1835128\">\n",
              "    <div class=\"colab-df-container\">\n",
              "      <div>\n",
              "<style scoped>\n",
              "    .dataframe tbody tr th:only-of-type {\n",
              "        vertical-align: middle;\n",
              "    }\n",
              "\n",
              "    .dataframe tbody tr th {\n",
              "        vertical-align: top;\n",
              "    }\n",
              "\n",
              "    .dataframe thead th {\n",
              "        text-align: right;\n",
              "    }\n",
              "</style>\n",
              "<table border=\"1\" class=\"dataframe\">\n",
              "  <thead>\n",
              "    <tr style=\"text-align: right;\">\n",
              "      <th></th>\n",
              "      <th>Words</th>\n",
              "    </tr>\n",
              "  </thead>\n",
              "  <tbody>\n",
              "    <tr>\n",
              "      <th>count</th>\n",
              "      <td>1936.000000</td>\n",
              "    </tr>\n",
              "    <tr>\n",
              "      <th>mean</th>\n",
              "      <td>24.459194</td>\n",
              "    </tr>\n",
              "    <tr>\n",
              "      <th>std</th>\n",
              "      <td>12.686699</td>\n",
              "    </tr>\n",
              "    <tr>\n",
              "      <th>min</th>\n",
              "      <td>2.000000</td>\n",
              "    </tr>\n",
              "    <tr>\n",
              "      <th>25%</th>\n",
              "      <td>16.000000</td>\n",
              "    </tr>\n",
              "    <tr>\n",
              "      <th>50%</th>\n",
              "      <td>23.000000</td>\n",
              "    </tr>\n",
              "    <tr>\n",
              "      <th>75%</th>\n",
              "      <td>31.000000</td>\n",
              "    </tr>\n",
              "    <tr>\n",
              "      <th>max</th>\n",
              "      <td>250.000000</td>\n",
              "    </tr>\n",
              "  </tbody>\n",
              "</table>\n",
              "</div>\n",
              "      <button class=\"colab-df-convert\" onclick=\"convertToInteractive('df-754daaac-3a3d-4575-b9e1-d1e6c1835128')\"\n",
              "              title=\"Convert this dataframe to an interactive table.\"\n",
              "              style=\"display:none;\">\n",
              "        \n",
              "  <svg xmlns=\"http://www.w3.org/2000/svg\" height=\"24px\"viewBox=\"0 0 24 24\"\n",
              "       width=\"24px\">\n",
              "    <path d=\"M0 0h24v24H0V0z\" fill=\"none\"/>\n",
              "    <path d=\"M18.56 5.44l.94 2.06.94-2.06 2.06-.94-2.06-.94-.94-2.06-.94 2.06-2.06.94zm-11 1L8.5 8.5l.94-2.06 2.06-.94-2.06-.94L8.5 2.5l-.94 2.06-2.06.94zm10 10l.94 2.06.94-2.06 2.06-.94-2.06-.94-.94-2.06-.94 2.06-2.06.94z\"/><path d=\"M17.41 7.96l-1.37-1.37c-.4-.4-.92-.59-1.43-.59-.52 0-1.04.2-1.43.59L10.3 9.45l-7.72 7.72c-.78.78-.78 2.05 0 2.83L4 21.41c.39.39.9.59 1.41.59.51 0 1.02-.2 1.41-.59l7.78-7.78 2.81-2.81c.8-.78.8-2.07 0-2.86zM5.41 20L4 18.59l7.72-7.72 1.47 1.35L5.41 20z\"/>\n",
              "  </svg>\n",
              "      </button>\n",
              "      \n",
              "  <style>\n",
              "    .colab-df-container {\n",
              "      display:flex;\n",
              "      flex-wrap:wrap;\n",
              "      gap: 12px;\n",
              "    }\n",
              "\n",
              "    .colab-df-convert {\n",
              "      background-color: #E8F0FE;\n",
              "      border: none;\n",
              "      border-radius: 50%;\n",
              "      cursor: pointer;\n",
              "      display: none;\n",
              "      fill: #1967D2;\n",
              "      height: 32px;\n",
              "      padding: 0 0 0 0;\n",
              "      width: 32px;\n",
              "    }\n",
              "\n",
              "    .colab-df-convert:hover {\n",
              "      background-color: #E2EBFA;\n",
              "      box-shadow: 0px 1px 2px rgba(60, 64, 67, 0.3), 0px 1px 3px 1px rgba(60, 64, 67, 0.15);\n",
              "      fill: #174EA6;\n",
              "    }\n",
              "\n",
              "    [theme=dark] .colab-df-convert {\n",
              "      background-color: #3B4455;\n",
              "      fill: #D2E3FC;\n",
              "    }\n",
              "\n",
              "    [theme=dark] .colab-df-convert:hover {\n",
              "      background-color: #434B5C;\n",
              "      box-shadow: 0px 1px 3px 1px rgba(0, 0, 0, 0.15);\n",
              "      filter: drop-shadow(0px 1px 2px rgba(0, 0, 0, 0.3));\n",
              "      fill: #FFFFFF;\n",
              "    }\n",
              "  </style>\n",
              "\n",
              "      <script>\n",
              "        const buttonEl =\n",
              "          document.querySelector('#df-754daaac-3a3d-4575-b9e1-d1e6c1835128 button.colab-df-convert');\n",
              "        buttonEl.style.display =\n",
              "          google.colab.kernel.accessAllowed ? 'block' : 'none';\n",
              "\n",
              "        async function convertToInteractive(key) {\n",
              "          const element = document.querySelector('#df-754daaac-3a3d-4575-b9e1-d1e6c1835128');\n",
              "          const dataTable =\n",
              "            await google.colab.kernel.invokeFunction('convertToInteractive',\n",
              "                                                     [key], {});\n",
              "          if (!dataTable) return;\n",
              "\n",
              "          const docLinkHtml = 'Like what you see? Visit the ' +\n",
              "            '<a target=\"_blank\" href=https://colab.research.google.com/notebooks/data_table.ipynb>data table notebook</a>'\n",
              "            + ' to learn more about interactive tables.';\n",
              "          element.innerHTML = '';\n",
              "          dataTable['output_type'] = 'display_data';\n",
              "          await google.colab.output.renderOutput(dataTable, element);\n",
              "          const docLink = document.createElement('div');\n",
              "          docLink.innerHTML = docLinkHtml;\n",
              "          element.appendChild(docLink);\n",
              "        }\n",
              "      </script>\n",
              "    </div>\n",
              "  </div>\n",
              "  "
            ]
          },
          "metadata": {},
          "execution_count": 8
        }
      ],
      "source": [
        "max_length = int(pd.DataFrame(train.Words.apply(lambda x: x.split(\" \")).apply(len)).quantile(0.75))\n",
        "print(\"The 75% quantile is: \", max_length, 'words')\n",
        "pd.DataFrame(train.Words.apply(lambda x: x.split(\" \")).apply(len)).describe()"
      ]
    },
    {
      "cell_type": "markdown",
      "metadata": {
        "id": "9lEM0m_L49Vg"
      },
      "source": [
        "Then, we plot the distribution of each tag for each split. Here we can see that special chars appear few times (except for the $ symbol, because there are some currency values). The most common tag is the noun tag."
      ]
    },
    {
      "cell_type": "code",
      "execution_count": 9,
      "metadata": {
        "colab": {
          "base_uri": "https://localhost:8080/",
          "height": 0
        },
        "id": "IclzGwK8aLrF",
        "outputId": "72c23442-cd00-46a4-e99a-09adef41fbf3"
      },
      "outputs": [
        {
          "output_type": "execute_result",
          "data": {
            "text/plain": [
              "<matplotlib.legend.Legend at 0x7f53ce733430>"
            ]
          },
          "metadata": {},
          "execution_count": 9
        },
        {
          "output_type": "display_data",
          "data": {
            "text/plain": [
              "<Figure size 1440x504 with 1 Axes>"
            ],
            "image/png": "[encoded data removed]"
          },
          "metadata": {
            "needs_background": "light"
          }
        }
      ],
      "source": [
        "import matplotlib.pyplot as plt\n",
        "plt.figure(figsize=(20, 7))\n",
        "\n",
        "tags_train = []\n",
        "tags_val = []\n",
        "tags_test = []\n",
        "\n",
        "for i in train.Tags.apply(lambda x: x.split(\" \")):\n",
        "  for j in i:\n",
        "    tags_train.append(j)\n",
        "\n",
        "for i in validation.Tags.apply(lambda x: x.split(\" \")):\n",
        "  for j in i:\n",
        "    tags_val.append(j)\n",
        "\n",
        "for i in test.Tags.apply(lambda x: x.split(\" \")):\n",
        "  for j in i:\n",
        "    tags_test.append(j)\n",
        "\n",
        "pd.DataFrame(tags_train).value_counts().plot(kind='bar', figsize=(20,7), label = 'train', color = 'blue')\n",
        "pd.DataFrame(tags_val).value_counts().plot(kind='bar', figsize=(20,7), label = 'val', color = 'orange')\n",
        "pd.DataFrame(tags_test).value_counts().plot(kind='bar', figsize=(20,7), label = 'test', color = 'green')\n",
        "\n",
        "plt.title('Tags distribution over train, validation and test set')\n",
        "plt.xlabel('Tags')\n",
        "plt.legend()"
      ]
    },
    {
      "cell_type": "markdown",
      "source": [
        "As we can see from the plot, each class has approximately the same distribution for each split, which however has an unbalanced distribution between the classes.\n"
      ],
      "metadata": {
        "id": "ixbbaxGauKdh"
      }
    },
    {
      "cell_type": "code",
      "source": [
        "print('Unique tags in train: ', len(set(tags_train)))\n",
        "print('Unique tags in val: {0}, tags: {1}'.format(len(set(tags_val)), ', '.join([k.upper() for k in set(tags_train) if not k in set(tags_val)])))\n",
        "print('Unique tags in test: {0}, tags: {1}'.format(len(set(tags_test)), ', '.join([k.upper() for k in set(tags_train) if not k in set(tags_test)])))"
      ],
      "metadata": {
        "colab": {
          "base_uri": "https://localhost:8080/"
        },
        "id": "KiuOVtKa6ugY",
        "outputId": "5437427d-5e88-4664-aed4-cc6ae7156fce"
      },
      "execution_count": 10,
      "outputs": [
        {
          "output_type": "stream",
          "name": "stdout",
          "text": [
            "Unique tags in train:  45\n",
            "Unique tags in val: 44, tags: SYM\n",
            "Unique tags in test: 40, tags: LS, FW, SYM, #, UH\n"
          ]
        }
      ]
    },
    {
      "cell_type": "markdown",
      "source": [
        "Some classes don't appear in the validation and test split: SYM for both, while #, UH, LS and FW for the test."
      ],
      "metadata": {
        "id": "jlOsRV0v-faF"
      }
    },
    {
      "cell_type": "markdown",
      "metadata": {
        "id": "FBvJbVok8uh0"
      },
      "source": [
        "## 5. Download of Glove"
      ]
    },
    {
      "cell_type": "markdown",
      "metadata": {
        "id": "Ba8EZELf5-qn"
      },
      "source": [
        "We've used Wikipedia 2014 + Gigaword 5 Glove (6B tokens, 400k vocab)."
      ]
    },
    {
      "cell_type": "code",
      "execution_count": 11,
      "metadata": {
        "colab": {
          "base_uri": "https://localhost:8080/"
        },
        "id": "RpJ5iTye81C_",
        "outputId": "3db41d68-8013-4ea8-fc39-ee6385cc9eb4"
      },
      "outputs": [
        {
          "output_type": "stream",
          "name": "stdout",
          "text": [
            "Successful download\n",
            "Successful extraction\n"
          ]
        }
      ],
      "source": [
        "url = \"https://nlp.stanford.edu/data/glove.6B.zip\"\n",
        "\n",
        "glove_path = os.path.join(os.getcwd(),\"Glove\")\n",
        "glove_zip = os.path.join(os.getcwd(),\"Glove\", \"glove.6B.zip\")\n",
        "\n",
        "if not os.path.exists(glove_path):\n",
        "    os.makedirs(glove_path)\n",
        "\n",
        "if not os.path.exists(glove_zip):\n",
        "    urllib.request.urlretrieve(url, glove_zip)\n",
        "    print(\"Successful download\")\n",
        "\n",
        "with zipfile.ZipFile(glove_zip, 'r') as zip_ref:\n",
        "    zip_ref.extractall(path=glove_path)\n",
        "    print(\"Successful extraction\")"
      ]
    },
    {
      "cell_type": "markdown",
      "metadata": {
        "id": "3BfCOTIX6hm1"
      },
      "source": [
        "Here, we've written the function for getting the vocabulary of Glove (given the number of columns, default 50)."
      ]
    },
    {
      "cell_type": "code",
      "execution_count": 12,
      "metadata": {
        "id": "vWs7e8y587sg"
      },
      "outputs": [],
      "source": [
        "def build_glove_vocabulary(columns=50):\n",
        "  glove_file = os.path.join(os.getcwd(),\"Glove\", \"glove.6B.{0}d.txt\".format(columns))\n",
        "  print (\"Loading Glove Model\")\n",
        "  with open(glove_file, encoding=\"utf8\" ) as f:\n",
        "      lines = f.readlines()\n",
        "  glove_vocabulary = {}\n",
        "  for line in lines:\n",
        "      splits = line.split()\n",
        "      glove_vocabulary[splits[0]] = np.array([float(val) for val in splits[1:]])\n",
        "  print (\"Done.\",len(glove_vocabulary.keys()),\" words loaded!\")\n",
        "  return glove_vocabulary"
      ]
    },
    {
      "cell_type": "markdown",
      "metadata": {
        "id": "KxyVGB5b9fA6"
      },
      "source": [
        "## 6. OOV Vocabulary"
      ]
    },
    {
      "cell_type": "markdown",
      "metadata": {
        "id": "AyJRAH3w7F2I"
      },
      "source": [
        "One of the most important aspect for RNN is the embedding phase. First, we add the OOVs in the Glove vocabulary. In a real scenario, we:\n",
        "\n",
        "*   Start with a vocabulary V1 (in this assignment, GloVe vocabulary)\n",
        "*   Compute embeddings for terms out of vocabulary V1 (OOV1) of the training split\n",
        "*   Add embeddings to the vocabulary, so to obtain vocabulary V2=V1+OOV1\n",
        "*   Training of the model(s)\n",
        "*   Compute embeddings for terms OOV2 of the validation split\n",
        "*   Add embeddings to the vocabulary, so to obtain vocabulary V3=V1+OOV1+OOV2\n",
        "*   Validation of the model(s)\n",
        "*   Compute embeddings for terms OOV3 of the test split\n",
        "*   Add embeddings to the vocabulary, so to obtain vocabulary V4=V1+OOV1+OOV2+OOV3\n",
        "*   Testing of the final mode<br>\n",
        "\n",
        "In this case we already have all the documents and so we have simplified a little bit the previous procedure (as explained in the instructions). In particular, we have added the OOVs and calculated embeddings at each step (first train, then val and finally test), but the model is trained and tested after evaluating the OOVs for train, val and test. For the Embedding of the OOVs, we have used the mean of the embedding of the context for each OOV word when it was possible, otherwise we took a random vector. To choose the best embedding dimension of GloVe and the best context size we tested some configuration using the first model (BiLSTM + Dense Layer) on the validation set, the best results were with: \n",
        "\n",
        "- 100 dimension (Glove);\n",
        "- 3 context (actual_word - 3, actual_word + 3)\n",
        "\n",
        "First, we define a function to build the vocabulary of the dataframe using the tokenizer:"
      ]
    },
    {
      "cell_type": "code",
      "execution_count": 13,
      "metadata": {
        "id": "v-1nAl_hE0mE"
      },
      "outputs": [],
      "source": [
        "# the words are sep. by a white space, so we simply use split=' '\n",
        "# X_column --> the name of the columns where the sentences are stored in the dataset (in this case Words)\n",
        "def build_vocabulary(dataframe, X_column):\n",
        "  tokenizer = tf.keras.preprocessing.text.Tokenizer(split=' ', num_words=0, filters='\\t\\n')\n",
        "  tokenizer.fit_on_texts(dataframe[X_column])\n",
        "  return tokenizer.word_index, tokenizer.index_word"
      ]
    },
    {
      "cell_type": "markdown",
      "source": [
        "Now we need a functoin to find the OOVs of a 'new_vocabulary' wrt 'start_vocabulary':"
      ],
      "metadata": {
        "id": "fe6gz6zLRyWi"
      }
    },
    {
      "cell_type": "code",
      "execution_count": 14,
      "metadata": {
        "id": "97-LokX5ILrT"
      },
      "outputs": [],
      "source": [
        "def find_OOV(start_vocabulary, new_vocabulary):\n",
        "  return set(new_vocabulary).difference(set(start_vocabulary.keys()))"
      ]
    },
    {
      "cell_type": "markdown",
      "source": [
        "And a function to build word-word co-occurrence matrix based on word counts:"
      ],
      "metadata": {
        "id": "X25EloRYR-ri"
      }
    },
    {
      "cell_type": "code",
      "execution_count": 15,
      "metadata": {
        "id": "GqgAaiWW_M1Q"
      },
      "outputs": [],
      "source": [
        "# from tutorial2 --> calculate the co-occurrence\n",
        "def co_occurrence_count(df, idx_to_word, word_to_idx, window_size=4) -> np.ndarray:\n",
        "    \"\"\"\n",
        "    Builds word-word co-occurrence matrix based on word counts.\n",
        "\n",
        "    :param df: pre-processed dataset (pandas.DataFrame)\n",
        "    :param idx_to_word: vocabulary map (index -> word) (dict)\n",
        "    :param word_to_idx: vocabulary map (word -> index) (dict)\n",
        "\n",
        "    :return\n",
        "      - co_occurrence symmetric matrix of size |V| x |V| (|V| = vocabulary size)\n",
        "    \"\"\"\n",
        "    vocab_size = len(idx_to_word)+1\n",
        "    co_occurrence_matrix = np.zeros((vocab_size, vocab_size), dtype=np.int32)\n",
        "    \n",
        "    for sentence in df.Words.values:\n",
        "        tokens = sentence.split()\n",
        "        for pos, token in enumerate(tokens):\n",
        "            start = max(0, pos - window_size)\n",
        "            end = min(pos + window_size + 1, len(tokens))\n",
        "\n",
        "            first_word_index = word_to_idx[token]\n",
        "\n",
        "            for pos2 in range(start, end):\n",
        "                if pos2 != pos:\n",
        "                    second_token = tokens[pos2]\n",
        "                    second_word_index = word_to_idx[second_token]\n",
        "                    co_occurrence_matrix[first_word_index, second_word_index] += 1\n",
        "    return co_occurrence_matrix"
      ]
    },
    {
      "cell_type": "markdown",
      "source": [
        "Then we define a function to concatenate the OOVs to the initial vocabulary:"
      ],
      "metadata": {
        "id": "xBX1nV66SQ38"
      }
    },
    {
      "cell_type": "code",
      "execution_count": 16,
      "metadata": {
        "id": "ZGtdQcQjG7AB"
      },
      "outputs": [],
      "source": [
        "# initial_vocabulary --> the vocabulary where we want to add OOVs\n",
        "# OOV --> a list of OOVs\n",
        "# word_idx_vocab_with_OOV --> the vocabulary with word as key with its index (including OOV)\n",
        "# idx_word_vocab_with_OOV --> the vocabulary with index as key with its word (including OOV)\n",
        "# co_occurrence --> the co-occurrence-matrix for the given dataframe (the vocabulary are word_idx_vocab_with_OOV and idx_word_vocab_with_OOV)\n",
        "def mean_concat_OOV_vocabulary(initial_vocabulary, OOV, word_idx_vocab_with_OOV, idx_word_vocab_with_OOV, co_occurrence, columns=50):\n",
        "  for word in OOV:\n",
        "    encode = word_idx_vocab_with_OOV[word]\n",
        "    row_occurence = co_occurrence[encode,:]\n",
        "\n",
        "    # if the word hasn't any context --> random embedding\n",
        "    if np.all((row_occurence == 0)):\n",
        "      embedding_vector = np.random.uniform(low=-0.05, high=0.05, size = columns)\n",
        "    \n",
        "    # if the word has some context, we calculate the mean of the embedding (in the initial_vocabulary) of the contexts\n",
        "    else:\n",
        "      weights = row_occurence[row_occurence!=0]\n",
        "      contexts = [idx_word_vocab_with_OOV[c] for c in np.where(row_occurence != 0)[0]]\n",
        "      \n",
        "      # if a context word is a OOV unseen, we random it\n",
        "      embeddings = [initial_vocabulary.get(context_word, np.random.uniform(low=-0.05, high=0.05, size = columns)) for context_word in contexts]\n",
        "      embedding_vector = np.average(embeddings, weights=weights, axis=0)\n",
        "    initial_vocabulary[word] = embedding_vector\n",
        "\n",
        "  return initial_vocabulary\n",
        "\n",
        "def random_concat_OOV_vocabulary(initial_vocabulary, OOV, columns=50):\n",
        "  for word in OOV:\n",
        "    initial_vocabulary[word] = np.random.uniform(low=-0.05, high=0.05, size=columns)\n",
        "  return initial_vocabulary"
      ]
    },
    {
      "cell_type": "markdown",
      "metadata": {
        "id": "soaXgwWy-7nh"
      },
      "source": [
        "To build the vocabulary, we use a sequential order (easy to understand), instead using some functions and having automated code. We remember that we started with a vocabulary that contains the words of the training set that appear also in GloVe, and then we added the OOVs of the training set. Then this process was repeated also for the validation set, where the OOVs are considered wrt the GloVe vocabulary plus the training OOVs; in the same way we operate with the test set, wrt to the GloVe vocabulary plus the OOVs of training and validation set."
      ]
    },
    {
      "cell_type": "code",
      "execution_count": 17,
      "metadata": {
        "colab": {
          "base_uri": "https://localhost:8080/"
        },
        "id": "_JH6IuRNEdj2",
        "outputId": "33d96913-ebe8-4f35-ac08-c95ef800f589"
      },
      "outputs": [
        {
          "output_type": "stream",
          "name": "stdout",
          "text": [
            "Loading Glove Model\n",
            "Done. 400000  words loaded!\n",
            "\n",
            "The vocabulary (tokenizer) starts from 1 with the encode (0 reserved to -PAD-, see later), so the shape for the co-occ is length+1.\n",
            "\n",
            "The len of Train Vocabulary is: 7402\n",
            "The OOVs for Train wrt Glove are: 355\n",
            "The percentage of train OOVs is: 5%\n",
            "The co-occ-matrix for Train has a shape of: (7403, 7403)\n",
            "The new vocabulary size is: 400355\n",
            "\n",
            "The len of Validation Vocabulary is: 5420\n",
            "The OOVs for Validation wrt Glove + Train's OOV are: 189\n",
            "The percentage of validation OOVs is: 3%\n",
            "The co-occ-matrix for Validation has a shape of: (5421, 5421)\n",
            "The new vocabulary size is: 400544\n",
            "\n",
            "The len of Test Vocabulary is: 3407\n",
            "The OOVs for Test wrt Glove + Train's OOV + Val's OOV are: 128\n",
            "The percentage of test OOVs is: 4%\n",
            "The co-occ-matrix for Test has a shape of: (3408, 3408)\n",
            "The new vocabulary size is: 400672\n"
          ]
        }
      ],
      "source": [
        "# we have found 100 as best dimension for Glove\n",
        "dimension = 100\n",
        "context_word = 1\n",
        "\n",
        "embedding_function = {'mean':mean_concat_OOV_vocabulary, 'random':random_concat_OOV_vocabulary}\n",
        "current_embedding = 'mean' # use 'mean' for a mean context embedding, 'random' otherwise\n",
        "\n",
        "# ------------GLOVE------------\n",
        "# build the glove voc (400k voc)\n",
        "glove_vocabulary = build_glove_vocabulary(columns=dimension)\n",
        "print()\n",
        "print('The vocabulary (tokenizer) starts from 1 with the encode (0 reserved to -PAD-, see later), so the shape for the co-occ is length+1.')\n",
        "print()\n",
        "\n",
        "\n",
        "# ------------TRAIN------------\n",
        "\n",
        "# create the vocabulary for the train set\n",
        "train_vocabulary_w_i, train_vocabulary_i_w = build_vocabulary(train, \"Words\")\n",
        "print(\"The len of Train Vocabulary is: {0}\".format(len(train_vocabulary_w_i)))\n",
        "\n",
        "# find the OOV for the train wrt the Glove\n",
        "train_OOV = find_OOV(glove_vocabulary, train_vocabulary_w_i)\n",
        "print(\"The OOVs for Train wrt Glove are: {0}\".format(len(train_OOV)))\n",
        "\n",
        "print(\"The percentage of train OOVs is: {:.0%}\".format(round(len(train_OOV)/len(train_vocabulary_w_i),2)))\n",
        "# build the co_occurrence_matrix for train using a window_size of 3\n",
        "co_occurrence_train = co_occurrence_count(train, train_vocabulary_i_w, train_vocabulary_w_i, window_size=context_word)\n",
        "print(\"The co-occ-matrix for Train has a shape of: {0}\".format(co_occurrence_train.shape))\n",
        "\n",
        "# update the Glove vocabulary with the train's OOV\n",
        "train_glove_vocabulary = embedding_function[current_embedding](glove_vocabulary, train_OOV, train_vocabulary_w_i, train_vocabulary_i_w, co_occurrence_train, columns=dimension)\n",
        "print(\"The new vocabulary size is: {0}\".format(len(train_glove_vocabulary)))\n",
        "print()\n",
        "\n",
        "\n",
        "# ------------VALIDATION------------\n",
        "\n",
        "# create the vocabulary for the validation set\n",
        "validation_vocabulary_w_i, validation_vocabulary_i_w = build_vocabulary(validation, \"Words\")\n",
        "print(\"The len of Validation Vocabulary is: {0}\".format(len(validation_vocabulary_w_i)))\n",
        "\n",
        "# find the OOV for the validation set wrt the Glove + Train's OOV\n",
        "validation_OOV = find_OOV(train_glove_vocabulary, validation_vocabulary_w_i)\n",
        "print(\"The OOVs for Validation wrt Glove + Train's OOV are: {0}\".format(len(validation_OOV)))\n",
        "print(\"The percentage of validation OOVs is: {:.0%}\".format(round(len(validation_OOV)/len(validation_vocabulary_w_i),2)))\n",
        "\n",
        "# build the co_occurrence_matrix for val using a window_size of 3\n",
        "co_occurrence_validation = co_occurrence_count(validation, validation_vocabulary_i_w, validation_vocabulary_w_i, window_size=context_word)\n",
        "print(\"The co-occ-matrix for Validation has a shape of: {0}\".format(co_occurrence_validation.shape))\n",
        "\n",
        "# update the Glove + Train's OOV vocabulary with the validations's OOV\n",
        "train_val_glove_vocabulary = embedding_function[current_embedding](train_glove_vocabulary, validation_OOV, validation_vocabulary_w_i, validation_vocabulary_i_w, co_occurrence_validation, columns=dimension)\n",
        "print(\"The new vocabulary size is: {0}\".format(len(train_val_glove_vocabulary)))\n",
        "print()\n",
        "\n",
        "\n",
        "# ------------TEST------------\n",
        "\n",
        "# create the vocabulary for the test set\n",
        "test_vocabulary_w_i, test_vocabulary_i_w = build_vocabulary(test, \"Words\")\n",
        "print(\"The len of Test Vocabulary is: {0}\".format(len(test_vocabulary_w_i)))\n",
        "\n",
        "# find the OOV for the test set wrt the Glove + Train's OOV + Val's OOV\n",
        "test_OOV = find_OOV(train_val_glove_vocabulary, test_vocabulary_w_i)\n",
        "print(\"The OOVs for Test wrt Glove + Train's OOV + Val's OOV are: {0}\".format(len(test_OOV)))\n",
        "print(\"The percentage of test OOVs is: {:.0%}\".format(round(len(test_OOV)/len(test_vocabulary_w_i),2)))\n",
        "# build the co_occurrence_matrix for val using a window_size of 3\n",
        "co_occurrence_test = co_occurrence_count(test, test_vocabulary_i_w, test_vocabulary_w_i, window_size=context_word)\n",
        "print(\"The co-occ-matrix for Test has a shape of: {0}\".format(co_occurrence_test.shape))\n",
        "\n",
        "# update the Glove + Train's OOV vocabulary with the validations's OOV\n",
        "train_val_test_glove_vocabulary = embedding_function[current_embedding](train_val_glove_vocabulary, test_OOV, test_vocabulary_w_i, test_vocabulary_i_w, co_occurrence_test, columns=dimension)\n",
        "print(\"The new vocabulary size is: {0}\".format(len(train_val_test_glove_vocabulary)))"
      ]
    },
    {
      "cell_type": "code",
      "execution_count": 18,
      "metadata": {
        "colab": {
          "base_uri": "https://localhost:8080/"
        },
        "id": "rbnbJoymAv0X",
        "outputId": "cabb8f6a-544e-4167-a833-e172e9a14cf2"
      },
      "outputs": [
        {
          "output_type": "stream",
          "name": "stdout",
          "text": [
            "{'more-advanced', 'crookery', 'computer-services', '566.54', '630.9', '811.9', 'protein-1', 'weapons-modernization', '170,262', 'inter-tel', 'blood-cell', '5,699', '494.50', 'asset-valuation', '87-store', 'acquisition-minded', 'intelogic', 'constitutional-law', '36-store', '608,413', 'ex-dividend', '120-a-share', 'cash-and-stock', 'waymar', 'pro-iranian', 'disputada', 'passenger-car', 'bankruptcy-law', '292.32', '26,956', 'reupke', '387.8', 'prior-year', '2,050-passenger', 'blue-chips', 'yet-to-be-formed', 'unicorp', '377.60', '237-seat', 'tete-a-tete', '263.07', '319.75', '220.45', 'nofzinger', '50\\\\/50', 'g.m.b', 'several-year', 'conn.based', 'high-rolling', '226,570,380', 'near-limit', 'above-market', 'headcount-control', '5.2180', '434.4', 'sewing-machine', 'lentjes', '158,666', 'waertsilae', 'cost-control', 'seven-yen', 'per-share', 'bread-and-butter', '372.14', 'copper-rich', '154,240,000', '618.1', '361.8', '734.9', 'corn-buying', '11-month-old', '45-a-share', '967,809', 'yoshihashi', 'heavy-truck', '55-a-share', 'newspaper-printing', '341.20', 'bronces', '300-day', 'diloreto', 'exxon-owned', 'sept.30', 'guber\\\\/peters', '6,799', 'garden-variety', 'life-of-contract', 'cents-a-unit', 'shareholder-rights', '188.84', '40-megabyte', '1206.26', '19-month-old', '131.01', '43.875', '126.15', '11,390,000', 'early-retirement', '0.0085', 'colorliner', 'noncompetitively', '129.91', '1.637', 'manmade-fiber', 'derchin', 'hasbrouk', '38.875', 'interleukin-3', 'louisiana-pacific', '18-a-share', 'mariotta', 'minimum-wage', 'johnson-era', '1.1650', 'disputado', 'information-services', 'arbitrage-related', '34.625', 'lobsenz', '1.916', 'staff-reduction', 'launch-vehicle', 'txo', '142.84', '3436.58', 'hadson', '83,206', '100-megabyte'}\n"
          ]
        }
      ],
      "source": [
        "# some OOVs of the test set (in particular acronyms and numbers)\n",
        "print(test_OOV)"
      ]
    },
    {
      "cell_type": "markdown",
      "source": [
        "Then, we do the same with random assignment for the OOVs. As we can see, the vocabulary has 400672 elements as before, with random embedding for the OOVs."
      ],
      "metadata": {
        "id": "9C7zR5jnCC7J"
      }
    },
    {
      "cell_type": "code",
      "source": [
        "def build_split(dataset, vocabulary, column_name=\"Words\", window_size=3, dimension=50, current_embedding=random_concat_OOV_vocabulary):\n",
        "  vocabulary_w_i, vocabulary_i_w = build_vocabulary(dataset, column_name)\n",
        "  OOV = find_OOV(vocabulary, vocabulary_w_i)\n",
        "  return current_embedding(vocabulary, OOV, columns=dimension)\n",
        "\n",
        "random_vocabulary = glove_vocabulary.copy()\n",
        "random_vocabulary = build_split(train, random_vocabulary, dimension=dimension)\n",
        "random_vocabulary = build_split(validation, random_vocabulary, dimension=dimension)\n",
        "random_vocabulary = build_split(test, random_vocabulary, dimension=dimension)\n",
        "print(len(random_vocabulary))"
      ],
      "metadata": {
        "colab": {
          "base_uri": "https://localhost:8080/"
        },
        "id": "ked5GYWk__i8",
        "outputId": "29fcebaa-49c5-44dc-e6d8-a66a144277ee"
      },
      "execution_count": 19,
      "outputs": [
        {
          "output_type": "stream",
          "name": "stdout",
          "text": [
            "400672\n"
          ]
        }
      ]
    },
    {
      "cell_type": "markdown",
      "metadata": {
        "id": "QE126aDp4TIY"
      },
      "source": [
        "## 7. Embedding"
      ]
    },
    {
      "cell_type": "markdown",
      "metadata": {
        "id": "Yjr2we7nBVwQ"
      },
      "source": [
        "Now we have a vocabulary without OOVs of train, val and test. So, we need to build the Embedding Matrix. For simplicity, we build an embedding matrix with only the words of training, validation and test set, without considering the other words of GloVe that don't appear in this task. "
      ]
    },
    {
      "cell_type": "code",
      "execution_count": 20,
      "metadata": {
        "id": "28f4Rco5OLhA"
      },
      "outputs": [],
      "source": [
        "def build_embedding_matrix(voc_embedding, vocabulary, columns=50):\n",
        "    rows = len(vocabulary)\n",
        "    embedding_matrix = np.zeros((rows+1, columns))\n",
        "    for word, index in vocabulary.items():\n",
        "      embedding_vector = voc_embedding.get(word)\n",
        "      embedding_matrix[index] = embedding_vector\n",
        "    return embedding_matrix"
      ]
    },
    {
      "cell_type": "code",
      "execution_count": 21,
      "metadata": {
        "colab": {
          "base_uri": "https://localhost:8080/"
        },
        "id": "yiPc2X8SNsF0",
        "outputId": "c483cc1c-0f77-4908-ede4-af9ea4394c10"
      },
      "outputs": [
        {
          "output_type": "execute_result",
          "data": {
            "text/plain": [
              "(10946, 100)"
            ]
          },
          "metadata": {},
          "execution_count": 21
        }
      ],
      "source": [
        "# ------------TRAIN-VAL-TEST------------\n",
        "# build embedding matrix using the Glove Voc + OOVs of train+val+test (computed previously)\n",
        "train_test_val_vocabulary_w_i, train_test_val_vocabulary_i_w = build_vocabulary(df, \"Words\")\n",
        "embedding_matrix = build_embedding_matrix(train_val_test_glove_vocabulary, train_test_val_vocabulary_w_i, columns=dimension)\n",
        "embedding_matrix.shape"
      ]
    },
    {
      "cell_type": "markdown",
      "metadata": {
        "id": "lE9CNutqIM0a"
      },
      "source": [
        "The Embedding Matrix (train+val+test) is: (without the first row, -PAD- with only 0s)"
      ]
    },
    {
      "cell_type": "code",
      "execution_count": 22,
      "metadata": {
        "colab": {
          "base_uri": "https://localhost:8080/",
          "height": 488
        },
        "id": "FXaPKNmcHwMY",
        "outputId": "9e7398c1-cbf1-43fb-fc04-99c2381489fa"
      },
      "outputs": [
        {
          "output_type": "execute_result",
          "data": {
            "text/plain": [
              "             0        1        2        3         4         5         6   \\\n",
              "0      0.000000  0.00000  0.00000  0.00000  0.000000  0.000000  0.000000   \n",
              "1     -0.107670  0.11053  0.59812 -0.54361  0.673960  0.106630  0.038867   \n",
              "2     -0.038194 -0.24487  0.72812 -0.39961  0.083172  0.043953 -0.391410   \n",
              "3     -0.339790  0.20941  0.46348 -0.64792 -0.383770  0.038034  0.171270   \n",
              "4     -0.152900 -0.24279  0.89837  0.16996  0.535160  0.487840 -0.588260   \n",
              "...         ...      ...      ...      ...       ...       ...       ...   \n",
              "10941 -0.674900  1.24910 -0.20589  0.30409  0.956890 -0.070804 -0.739220   \n",
              "10942  0.353960 -1.42890  0.74630 -0.20343 -0.580970  0.712080 -0.156970   \n",
              "10943  0.168650  1.19110  0.17452 -0.27608 -0.265470 -0.307260  0.745120   \n",
              "10944 -0.324430  0.84650 -0.56920 -0.37743  1.048800 -1.067600 -0.334530   \n",
              "10945  0.309570 -0.30719  0.42018 -0.88324  0.138400 -0.130830  0.034690   \n",
              "\n",
              "             7         8         9   ...        90        91        92  \\\n",
              "0      0.000000  0.000000  0.000000  ...  0.000000  0.000000  0.000000   \n",
              "1      0.354810  0.063510 -0.094189  ...  0.349510 -0.722600  0.375490   \n",
              "2      0.334400 -0.575450  0.087459  ...  0.016215 -0.017099 -0.389840   \n",
              "3      0.159780  0.466190 -0.019169  ... -0.063351 -0.674120 -0.068895   \n",
              "4     -0.179820 -1.358100  0.425410  ...  0.187120 -0.018488 -0.267570   \n",
              "...         ...       ...       ...  ...       ...       ...       ...   \n",
              "10941  0.132180  0.625330  0.068480  ...  0.267230 -0.344820 -0.247260   \n",
              "10942  0.330540 -0.120700  0.820530  ... -1.162800 -0.129670 -0.301680   \n",
              "10943  0.485540 -0.078094 -0.079655  ... -0.547290  0.382220 -0.207870   \n",
              "10944  0.049853  0.732600  0.238410  ...  0.086618  0.429520 -0.434800   \n",
              "10945  1.586300  0.611050  0.484240  ... -0.000066  0.099137  0.531750   \n",
              "\n",
              "             93       94       95       96        97       98        99  \n",
              "0      0.000000  0.00000  0.00000  0.00000  0.000000  0.00000  0.000000  \n",
              "1      0.444100 -0.99059  0.61214 -0.35111 -0.831550  0.45293  0.082577  \n",
              "2      0.874240 -0.72569 -0.51058 -0.52028 -0.145900  0.82780  0.270620  \n",
              "3      0.536040 -0.87773  0.31802 -0.39242 -0.233940  0.47298 -0.028803  \n",
              "4      0.727000 -0.59363 -0.34839 -0.56094 -0.591000  1.00390  0.206640  \n",
              "...         ...      ...      ...      ...       ...      ...       ...  \n",
              "10941  0.273270 -0.10251 -0.15400 -0.61960 -0.358480  0.97729  0.231860  \n",
              "10942  0.058908  0.51902  0.19820 -0.64066 -0.999100  0.48595 -0.586540  \n",
              "10943  0.157960  0.59973  0.01948  0.48689 -0.325070  0.36698 -0.179930  \n",
              "10944  0.211480 -0.11567 -0.18205 -0.87171 -0.028931  1.41150  0.280300  \n",
              "10945 -0.351660  0.41270 -0.39929  0.24495  0.651670  1.24470 -0.468070  \n",
              "\n",
              "[10946 rows x 100 columns]"
            ],
            "text/html": [
              "\n",
              "  <div id=\"df-00f75b10-ccd3-4458-9a79-93c5952e0cca\">\n",
              "    <div class=\"colab-df-container\">\n",
              "      <div>\n",
              "<style scoped>\n",
              "    .dataframe tbody tr th:only-of-type {\n",
              "        vertical-align: middle;\n",
              "    }\n",
              "\n",
              "    .dataframe tbody tr th {\n",
              "        vertical-align: top;\n",
              "    }\n",
              "\n",
              "    .dataframe thead th {\n",
              "        text-align: right;\n",
              "    }\n",
              "</style>\n",
              "<table border=\"1\" class=\"dataframe\">\n",
              "  <thead>\n",
              "    <tr style=\"text-align: right;\">\n",
              "      <th></th>\n",
              "      <th>0</th>\n",
              "      <th>1</th>\n",
              "      <th>2</th>\n",
              "      <th>3</th>\n",
              "      <th>4</th>\n",
              "      <th>5</th>\n",
              "      <th>6</th>\n",
              "      <th>7</th>\n",
              "      <th>8</th>\n",
              "      <th>9</th>\n",
              "      <th>...</th>\n",
              "      <th>90</th>\n",
              "      <th>91</th>\n",
              "      <th>92</th>\n",
              "      <th>93</th>\n",
              "      <th>94</th>\n",
              "      <th>95</th>\n",
              "      <th>96</th>\n",
              "      <th>97</th>\n",
              "      <th>98</th>\n",
              "      <th>99</th>\n",
              "    </tr>\n",
              "  </thead>\n",
              "  <tbody>\n",
              "    <tr>\n",
              "      <th>0</th>\n",
              "      <td>0.000000</td>\n",
              "      <td>0.00000</td>\n",
              "      <td>0.00000</td>\n",
              "      <td>0.00000</td>\n",
              "      <td>0.000000</td>\n",
              "      <td>0.000000</td>\n",
              "      <td>0.000000</td>\n",
              "      <td>0.000000</td>\n",
              "      <td>0.000000</td>\n",
              "      <td>0.000000</td>\n",
              "      <td>...</td>\n",
              "      <td>0.000000</td>\n",
              "      <td>0.000000</td>\n",
              "      <td>0.000000</td>\n",
              "      <td>0.000000</td>\n",
              "      <td>0.00000</td>\n",
              "      <td>0.00000</td>\n",
              "      <td>0.00000</td>\n",
              "      <td>0.000000</td>\n",
              "      <td>0.00000</td>\n",
              "      <td>0.000000</td>\n",
              "    </tr>\n",
              "    <tr>\n",
              "      <th>1</th>\n",
              "      <td>-0.107670</td>\n",
              "      <td>0.11053</td>\n",
              "      <td>0.59812</td>\n",
              "      <td>-0.54361</td>\n",
              "      <td>0.673960</td>\n",
              "      <td>0.106630</td>\n",
              "      <td>0.038867</td>\n",
              "      <td>0.354810</td>\n",
              "      <td>0.063510</td>\n",
              "      <td>-0.094189</td>\n",
              "      <td>...</td>\n",
              "      <td>0.349510</td>\n",
              "      <td>-0.722600</td>\n",
              "      <td>0.375490</td>\n",
              "      <td>0.444100</td>\n",
              "      <td>-0.99059</td>\n",
              "      <td>0.61214</td>\n",
              "      <td>-0.35111</td>\n",
              "      <td>-0.831550</td>\n",
              "      <td>0.45293</td>\n",
              "      <td>0.082577</td>\n",
              "    </tr>\n",
              "    <tr>\n",
              "      <th>2</th>\n",
              "      <td>-0.038194</td>\n",
              "      <td>-0.24487</td>\n",
              "      <td>0.72812</td>\n",
              "      <td>-0.39961</td>\n",
              "      <td>0.083172</td>\n",
              "      <td>0.043953</td>\n",
              "      <td>-0.391410</td>\n",
              "      <td>0.334400</td>\n",
              "      <td>-0.575450</td>\n",
              "      <td>0.087459</td>\n",
              "      <td>...</td>\n",
              "      <td>0.016215</td>\n",
              "      <td>-0.017099</td>\n",
              "      <td>-0.389840</td>\n",
              "      <td>0.874240</td>\n",
              "      <td>-0.72569</td>\n",
              "      <td>-0.51058</td>\n",
              "      <td>-0.52028</td>\n",
              "      <td>-0.145900</td>\n",
              "      <td>0.82780</td>\n",
              "      <td>0.270620</td>\n",
              "    </tr>\n",
              "    <tr>\n",
              "      <th>3</th>\n",
              "      <td>-0.339790</td>\n",
              "      <td>0.20941</td>\n",
              "      <td>0.46348</td>\n",
              "      <td>-0.64792</td>\n",
              "      <td>-0.383770</td>\n",
              "      <td>0.038034</td>\n",
              "      <td>0.171270</td>\n",
              "      <td>0.159780</td>\n",
              "      <td>0.466190</td>\n",
              "      <td>-0.019169</td>\n",
              "      <td>...</td>\n",
              "      <td>-0.063351</td>\n",
              "      <td>-0.674120</td>\n",
              "      <td>-0.068895</td>\n",
              "      <td>0.536040</td>\n",
              "      <td>-0.87773</td>\n",
              "      <td>0.31802</td>\n",
              "      <td>-0.39242</td>\n",
              "      <td>-0.233940</td>\n",
              "      <td>0.47298</td>\n",
              "      <td>-0.028803</td>\n",
              "    </tr>\n",
              "    <tr>\n",
              "      <th>4</th>\n",
              "      <td>-0.152900</td>\n",
              "      <td>-0.24279</td>\n",
              "      <td>0.89837</td>\n",
              "      <td>0.16996</td>\n",
              "      <td>0.535160</td>\n",
              "      <td>0.487840</td>\n",
              "      <td>-0.588260</td>\n",
              "      <td>-0.179820</td>\n",
              "      <td>-1.358100</td>\n",
              "      <td>0.425410</td>\n",
              "      <td>...</td>\n",
              "      <td>0.187120</td>\n",
              "      <td>-0.018488</td>\n",
              "      <td>-0.267570</td>\n",
              "      <td>0.727000</td>\n",
              "      <td>-0.59363</td>\n",
              "      <td>-0.34839</td>\n",
              "      <td>-0.56094</td>\n",
              "      <td>-0.591000</td>\n",
              "      <td>1.00390</td>\n",
              "      <td>0.206640</td>\n",
              "    </tr>\n",
              "    <tr>\n",
              "      <th>...</th>\n",
              "      <td>...</td>\n",
              "      <td>...</td>\n",
              "      <td>...</td>\n",
              "      <td>...</td>\n",
              "      <td>...</td>\n",
              "      <td>...</td>\n",
              "      <td>...</td>\n",
              "      <td>...</td>\n",
              "      <td>...</td>\n",
              "      <td>...</td>\n",
              "      <td>...</td>\n",
              "      <td>...</td>\n",
              "      <td>...</td>\n",
              "      <td>...</td>\n",
              "      <td>...</td>\n",
              "      <td>...</td>\n",
              "      <td>...</td>\n",
              "      <td>...</td>\n",
              "      <td>...</td>\n",
              "      <td>...</td>\n",
              "      <td>...</td>\n",
              "    </tr>\n",
              "    <tr>\n",
              "      <th>10941</th>\n",
              "      <td>-0.674900</td>\n",
              "      <td>1.24910</td>\n",
              "      <td>-0.20589</td>\n",
              "      <td>0.30409</td>\n",
              "      <td>0.956890</td>\n",
              "      <td>-0.070804</td>\n",
              "      <td>-0.739220</td>\n",
              "      <td>0.132180</td>\n",
              "      <td>0.625330</td>\n",
              "      <td>0.068480</td>\n",
              "      <td>...</td>\n",
              "      <td>0.267230</td>\n",
              "      <td>-0.344820</td>\n",
              "      <td>-0.247260</td>\n",
              "      <td>0.273270</td>\n",
              "      <td>-0.10251</td>\n",
              "      <td>-0.15400</td>\n",
              "      <td>-0.61960</td>\n",
              "      <td>-0.358480</td>\n",
              "      <td>0.97729</td>\n",
              "      <td>0.231860</td>\n",
              "    </tr>\n",
              "    <tr>\n",
              "      <th>10942</th>\n",
              "      <td>0.353960</td>\n",
              "      <td>-1.42890</td>\n",
              "      <td>0.74630</td>\n",
              "      <td>-0.20343</td>\n",
              "      <td>-0.580970</td>\n",
              "      <td>0.712080</td>\n",
              "      <td>-0.156970</td>\n",
              "      <td>0.330540</td>\n",
              "      <td>-0.120700</td>\n",
              "      <td>0.820530</td>\n",
              "      <td>...</td>\n",
              "      <td>-1.162800</td>\n",
              "      <td>-0.129670</td>\n",
              "      <td>-0.301680</td>\n",
              "      <td>0.058908</td>\n",
              "      <td>0.51902</td>\n",
              "      <td>0.19820</td>\n",
              "      <td>-0.64066</td>\n",
              "      <td>-0.999100</td>\n",
              "      <td>0.48595</td>\n",
              "      <td>-0.586540</td>\n",
              "    </tr>\n",
              "    <tr>\n",
              "      <th>10943</th>\n",
              "      <td>0.168650</td>\n",
              "      <td>1.19110</td>\n",
              "      <td>0.17452</td>\n",
              "      <td>-0.27608</td>\n",
              "      <td>-0.265470</td>\n",
              "      <td>-0.307260</td>\n",
              "      <td>0.745120</td>\n",
              "      <td>0.485540</td>\n",
              "      <td>-0.078094</td>\n",
              "      <td>-0.079655</td>\n",
              "      <td>...</td>\n",
              "      <td>-0.547290</td>\n",
              "      <td>0.382220</td>\n",
              "      <td>-0.207870</td>\n",
              "      <td>0.157960</td>\n",
              "      <td>0.59973</td>\n",
              "      <td>0.01948</td>\n",
              "      <td>0.48689</td>\n",
              "      <td>-0.325070</td>\n",
              "      <td>0.36698</td>\n",
              "      <td>-0.179930</td>\n",
              "    </tr>\n",
              "    <tr>\n",
              "      <th>10944</th>\n",
              "      <td>-0.324430</td>\n",
              "      <td>0.84650</td>\n",
              "      <td>-0.56920</td>\n",
              "      <td>-0.37743</td>\n",
              "      <td>1.048800</td>\n",
              "      <td>-1.067600</td>\n",
              "      <td>-0.334530</td>\n",
              "      <td>0.049853</td>\n",
              "      <td>0.732600</td>\n",
              "      <td>0.238410</td>\n",
              "      <td>...</td>\n",
              "      <td>0.086618</td>\n",
              "      <td>0.429520</td>\n",
              "      <td>-0.434800</td>\n",
              "      <td>0.211480</td>\n",
              "      <td>-0.11567</td>\n",
              "      <td>-0.18205</td>\n",
              "      <td>-0.87171</td>\n",
              "      <td>-0.028931</td>\n",
              "      <td>1.41150</td>\n",
              "      <td>0.280300</td>\n",
              "    </tr>\n",
              "    <tr>\n",
              "      <th>10945</th>\n",
              "      <td>0.309570</td>\n",
              "      <td>-0.30719</td>\n",
              "      <td>0.42018</td>\n",
              "      <td>-0.88324</td>\n",
              "      <td>0.138400</td>\n",
              "      <td>-0.130830</td>\n",
              "      <td>0.034690</td>\n",
              "      <td>1.586300</td>\n",
              "      <td>0.611050</td>\n",
              "      <td>0.484240</td>\n",
              "      <td>...</td>\n",
              "      <td>-0.000066</td>\n",
              "      <td>0.099137</td>\n",
              "      <td>0.531750</td>\n",
              "      <td>-0.351660</td>\n",
              "      <td>0.41270</td>\n",
              "      <td>-0.39929</td>\n",
              "      <td>0.24495</td>\n",
              "      <td>0.651670</td>\n",
              "      <td>1.24470</td>\n",
              "      <td>-0.468070</td>\n",
              "    </tr>\n",
              "  </tbody>\n",
              "</table>\n",
              "<p>10946 rows × 100 columns</p>\n",
              "</div>\n",
              "      <button class=\"colab-df-convert\" onclick=\"convertToInteractive('df-00f75b10-ccd3-4458-9a79-93c5952e0cca')\"\n",
              "              title=\"Convert this dataframe to an interactive table.\"\n",
              "              style=\"display:none;\">\n",
              "        \n",
              "  <svg xmlns=\"http://www.w3.org/2000/svg\" height=\"24px\"viewBox=\"0 0 24 24\"\n",
              "       width=\"24px\">\n",
              "    <path d=\"M0 0h24v24H0V0z\" fill=\"none\"/>\n",
              "    <path d=\"M18.56 5.44l.94 2.06.94-2.06 2.06-.94-2.06-.94-.94-2.06-.94 2.06-2.06.94zm-11 1L8.5 8.5l.94-2.06 2.06-.94-2.06-.94L8.5 2.5l-.94 2.06-2.06.94zm10 10l.94 2.06.94-2.06 2.06-.94-2.06-.94-.94-2.06-.94 2.06-2.06.94z\"/><path d=\"M17.41 7.96l-1.37-1.37c-.4-.4-.92-.59-1.43-.59-.52 0-1.04.2-1.43.59L10.3 9.45l-7.72 7.72c-.78.78-.78 2.05 0 2.83L4 21.41c.39.39.9.59 1.41.59.51 0 1.02-.2 1.41-.59l7.78-7.78 2.81-2.81c.8-.78.8-2.07 0-2.86zM5.41 20L4 18.59l7.72-7.72 1.47 1.35L5.41 20z\"/>\n",
              "  </svg>\n",
              "      </button>\n",
              "      \n",
              "  <style>\n",
              "    .colab-df-container {\n",
              "      display:flex;\n",
              "      flex-wrap:wrap;\n",
              "      gap: 12px;\n",
              "    }\n",
              "\n",
              "    .colab-df-convert {\n",
              "      background-color: #E8F0FE;\n",
              "      border: none;\n",
              "      border-radius: 50%;\n",
              "      cursor: pointer;\n",
              "      display: none;\n",
              "      fill: #1967D2;\n",
              "      height: 32px;\n",
              "      padding: 0 0 0 0;\n",
              "      width: 32px;\n",
              "    }\n",
              "\n",
              "    .colab-df-convert:hover {\n",
              "      background-color: #E2EBFA;\n",
              "      box-shadow: 0px 1px 2px rgba(60, 64, 67, 0.3), 0px 1px 3px 1px rgba(60, 64, 67, 0.15);\n",
              "      fill: #174EA6;\n",
              "    }\n",
              "\n",
              "    [theme=dark] .colab-df-convert {\n",
              "      background-color: #3B4455;\n",
              "      fill: #D2E3FC;\n",
              "    }\n",
              "\n",
              "    [theme=dark] .colab-df-convert:hover {\n",
              "      background-color: #434B5C;\n",
              "      box-shadow: 0px 1px 3px 1px rgba(0, 0, 0, 0.15);\n",
              "      filter: drop-shadow(0px 1px 2px rgba(0, 0, 0, 0.3));\n",
              "      fill: #FFFFFF;\n",
              "    }\n",
              "  </style>\n",
              "\n",
              "      <script>\n",
              "        const buttonEl =\n",
              "          document.querySelector('#df-00f75b10-ccd3-4458-9a79-93c5952e0cca button.colab-df-convert');\n",
              "        buttonEl.style.display =\n",
              "          google.colab.kernel.accessAllowed ? 'block' : 'none';\n",
              "\n",
              "        async function convertToInteractive(key) {\n",
              "          const element = document.querySelector('#df-00f75b10-ccd3-4458-9a79-93c5952e0cca');\n",
              "          const dataTable =\n",
              "            await google.colab.kernel.invokeFunction('convertToInteractive',\n",
              "                                                     [key], {});\n",
              "          if (!dataTable) return;\n",
              "\n",
              "          const docLinkHtml = 'Like what you see? Visit the ' +\n",
              "            '<a target=\"_blank\" href=https://colab.research.google.com/notebooks/data_table.ipynb>data table notebook</a>'\n",
              "            + ' to learn more about interactive tables.';\n",
              "          element.innerHTML = '';\n",
              "          dataTable['output_type'] = 'display_data';\n",
              "          await google.colab.output.renderOutput(dataTable, element);\n",
              "          const docLink = document.createElement('div');\n",
              "          docLink.innerHTML = docLinkHtml;\n",
              "          element.appendChild(docLink);\n",
              "        }\n",
              "      </script>\n",
              "    </div>\n",
              "  </div>\n",
              "  "
            ]
          },
          "metadata": {},
          "execution_count": 22
        }
      ],
      "source": [
        "pd.DataFrame(embedding_matrix, index=list(train_test_val_vocabulary_i_w.values()).append('-PAD-'))"
      ]
    },
    {
      "cell_type": "markdown",
      "source": [
        "As we can see the first embedding is a vector with only 0s, which we use to encode each zero of the pad."
      ],
      "metadata": {
        "id": "7dQWXAMsy186"
      }
    },
    {
      "cell_type": "markdown",
      "metadata": {
        "id": "2fjtBspZZzY5"
      },
      "source": [
        "Here, we can see the position of the embedding for 3 OOVs in the train ('telephone-information', 'vinken')."
      ]
    },
    {
      "cell_type": "code",
      "execution_count": 23,
      "metadata": {
        "colab": {
          "base_uri": "https://localhost:8080/",
          "height": 587
        },
        "id": "9_e-zNYMG6sJ",
        "outputId": "c414d42b-9c10-43e2-bb68-9405e908d861"
      },
      "outputs": [
        {
          "output_type": "stream",
          "name": "stderr",
          "text": [
            "/usr/local/lib/python3.8/dist-packages/sklearn/manifold/_t_sne.py:780: FutureWarning: The default initialization in TSNE will change from 'random' to 'pca' in 1.2.\n",
            "  warnings.warn(\n",
            "/usr/local/lib/python3.8/dist-packages/sklearn/manifold/_t_sne.py:790: FutureWarning: The default learning rate in TSNE will change from 200.0 to 'auto' in 1.2.\n",
            "  warnings.warn(\n"
          ]
        },
        {
          "output_type": "stream",
          "name": "stdout",
          "text": [
            "\n",
            "Words are:  ['telephone-information', 'vinken']\n"
          ]
        },
        {
          "output_type": "display_data",
          "data": {
            "text/plain": [
              "<Figure size 1008x576 with 1 Axes>"
            ],
            "image/png": "[encoded data removed]"
          },
          "metadata": {
            "needs_background": "light"
          }
        }
      ],
      "source": [
        "from sklearn.manifold import TSNE\n",
        "import matplotlib.pyplot as plt\n",
        "from sklearn.decomposition import PCA\n",
        "\n",
        "plt.figure(figsize=(14, 8))\n",
        "\n",
        "strings = ['telephone-information', 'vinken']\n",
        "contexts = []\n",
        "sep = []\n",
        "for string in strings:\n",
        "  index = train_vocabulary_w_i[string]\n",
        "  current = [train_vocabulary_i_w[c] for c in np.where(co_occurrence_train[index] != 0)[0]]\n",
        "  contexts = contexts.copy() + current.copy()\n",
        "  contexts.append(string)\n",
        "  sep.append(len(current))\n",
        "\n",
        "embeddings = [train_val_test_glove_vocabulary[context_word] for context_word in contexts]\n",
        "\n",
        "word_vectors = embeddings\n",
        "\n",
        "tsne = TSNE(n_components=2, random_state=1, n_iter=10000, perplexity=2)\n",
        "np.set_printoptions(suppress=True)\n",
        "T = tsne.fit_transform(word_vectors)\n",
        "labels = contexts\n",
        "\n",
        "prev = 0\n",
        "color = ['red', 'blue', 'yellow']\n",
        "count = 0\n",
        "for i in sep:\n",
        "  plt.scatter(T[prev:prev+i+1, 0], T[prev:prev+i+1, 1], c=color[count], edgecolors='k')\n",
        "  prev = prev+i+1\n",
        "  count += 1\n",
        "for label, x, y in zip(labels, T[:, 0], T[:, 1]):\n",
        "    plt.annotate(label, xy=(x+5, y+5), xytext=(0, 0), textcoords='offset points')\n",
        "print()\n",
        "print(\"Words are: \", strings)\n",
        "plt.show()"
      ]
    },
    {
      "cell_type": "markdown",
      "source": [
        "As before, we do the same for with the random embeddings."
      ],
      "metadata": {
        "id": "TvJa5uKrDXOZ"
      }
    },
    {
      "cell_type": "code",
      "source": [
        "random_embedding_matrix = build_embedding_matrix(random_vocabulary, train_test_val_vocabulary_w_i, columns=dimension)\n",
        "random_embedding_matrix.shape"
      ],
      "metadata": {
        "colab": {
          "base_uri": "https://localhost:8080/"
        },
        "id": "wtTVkmz0DIbp",
        "outputId": "b5602a5a-71dd-46fe-d49d-2a7c218c00e2"
      },
      "execution_count": 24,
      "outputs": [
        {
          "output_type": "execute_result",
          "data": {
            "text/plain": [
              "(10946, 100)"
            ]
          },
          "metadata": {},
          "execution_count": 24
        }
      ]
    },
    {
      "cell_type": "markdown",
      "metadata": {
        "id": "UQQpDqgI4bE-"
      },
      "source": [
        "## 8. Padding and Truncation for X_train, X_val, X_test"
      ]
    },
    {
      "cell_type": "markdown",
      "metadata": {
        "id": "OAwGVzURDRUU"
      },
      "source": [
        "Here, we encode the sentences using the Tokenizer() and then we apply zero-padding for the sentences with a length less than the 75 quantile, while we truncate sentences with lentgh grater than the 75 percentile."
      ]
    },
    {
      "cell_type": "code",
      "execution_count": 25,
      "metadata": {
        "colab": {
          "base_uri": "https://localhost:8080/"
        },
        "id": "nF3uZtCnhfhK",
        "outputId": "6cd52538-9f4f-4ed3-cb0a-8f447046e0f6"
      },
      "outputs": [
        {
          "output_type": "stream",
          "name": "stdout",
          "text": [
            "Sentence: \t\t pierre vinken , 61 years old , will join the board as a nonexecutive director nov. 29 .\n",
            "Encode for that row:     [5419, 3714, 1, 2005, 78, 316, 1, 39, 2383, 2, 122, 22, 6, 2006, 317, 444, 2007, 3]\n",
            "Padding for that row:    [5419, 3714, 1, 2005, 78, 316, 1, 39, 2383, 2, 122, 22, 6, 2006, 317, 444, 2007, 3, 0, 0, 0, 0, 0, 0, 0, 0, 0, 0, 0, 0, 0]\n",
            "\n",
            "Shape for X_train:  (1936, 31)\n",
            "Shape for X_val:    (1256, 31)\n",
            "Shape for X_test:   (636, 31)\n"
          ]
        }
      ],
      "source": [
        "# TEXT2SEQUENCE --> PADDING\n",
        "\n",
        "# as before, we can use a single tokenizer (stored in a file), but the split are \n",
        "# always equal and we wanted a notebook easy to unserstans, step by step\n",
        "word_tokenizer = tf.keras.preprocessing.text.Tokenizer(split=' ', num_words=0, filters='\\t\\n')\n",
        "word_tokenizer.fit_on_texts(df.Words)\n",
        "\n",
        "\n",
        "# ---------TRAIN---------\n",
        "# encode of the sentences\n",
        "X_train = word_tokenizer.texts_to_sequences(train.Words)\n",
        "print('Sentence: \\t\\t', train.Words.iloc[0])\n",
        "print('Encode for that row:    ', X_train[0])\n",
        "# apply the padding\n",
        "X_train = tf.keras.preprocessing.sequence.pad_sequences(X_train, padding = 'post', maxlen = max_length, truncating='post')\n",
        "print('Padding for that row:   ', [k for k in X_train[0]])\n",
        "print()\n",
        "\n",
        "\n",
        "# ---------VALIDATION---------\n",
        "X_val = word_tokenizer.texts_to_sequences(validation.Words)\n",
        "X_val = tf.keras.preprocessing.sequence.pad_sequences(X_val, padding = 'post', maxlen = max_length, truncating='post')\n",
        "\n",
        "\n",
        "# ---------TEST---------\n",
        "X_test = word_tokenizer.texts_to_sequences(test.Words)\n",
        "X_test = tf.keras.preprocessing.sequence.pad_sequences(X_test, padding = 'post', maxlen = max_length, truncating='post')\n",
        "\n",
        "print('Shape for X_train: ', X_train.shape)\n",
        "print('Shape for X_val:   ', X_val.shape)\n",
        "print('Shape for X_test:  ', X_test.shape)"
      ]
    },
    {
      "cell_type": "markdown",
      "metadata": {
        "id": "1N0ZIFLez182"
      },
      "source": [
        "## 9. Tags: y_train, y_val, y_test"
      ]
    },
    {
      "cell_type": "markdown",
      "metadata": {
        "id": "1nN6iWCCELAb"
      },
      "source": [
        "Then, we do the same previous process for the labels y_train, y_val, y_test. Since the output of the Dense Layer is in the one-hot encoder form, we need to transform the tags. To do this we use the keras function to_categorical, which transform each tag in a one-hot encoder vector. We encoded also the PAD tag: since the Keras Dense Layer doesn't support masking, our models need also to learn the mapping of zeros of the padding to their class 'PAD'."
      ]
    },
    {
      "cell_type": "code",
      "execution_count": 26,
      "metadata": {
        "colab": {
          "base_uri": "https://localhost:8080/"
        },
        "id": "3YNT18PI0PyA",
        "outputId": "4905996f-facf-44f3-f468-95acff7427a9"
      },
      "outputs": [
        {
          "output_type": "stream",
          "name": "stdout",
          "text": [
            "The unique tags are: 45, plus -PAD-\n",
            "Tags are:  {'nn': 1, 'in': 2, 'nnp': 3, 'dt': 4, 'nns': 5, 'jj': 6, ',': 7, '.': 8, 'cd': 9, 'vbd': 10, 'rb': 11, 'vb': 12, 'cc': 13, 'to': 14, 'vbn': 15, 'vbz': 16, 'prp': 17, 'vbg': 18, 'vbp': 19, 'md': 20, 'pos': 21, 'prp$': 22, '$': 23, '``': 24, \"''\": 25, ':': 26, 'wdt': 27, 'jjr': 28, 'nnps': 29, 'wp': 30, 'rp': 31, 'jjs': 32, 'wrb': 33, 'rbr': 34, ')': 35, '(': 36, 'ex': 37, 'rbs': 38, 'pdt': 39, '#': 40, 'wp$': 41, 'ls': 42, 'fw': 43, 'uh': 44, 'sym': 45}\n",
            "\n",
            "Sentence: \t\t\t pierre vinken , 61 years old , will join the board as a nonexecutive director nov. 29 .\n",
            "The tags for that row are: \t nnp nnp , cd nns jj , md vb dt nn in dt jj nn nnp cd .\n",
            "The encode for the tags are: \t [3, 3, 7, 9, 5, 6, 7, 20, 12, 4, 1, 2, 4, 6, 1, 3, 9, 8]\n",
            "The inverse of the sequence is:  NNP NNP , CD NNS JJ , MD VB DT NN IN DT JJ NN NNP CD .\n",
            "The encode + pad for that row are:  [ 3  3  7  9  5  6  7 20 12  4  1  2  4  6  1  3  9  8  0  0  0  0  0  0\n",
            "  0  0  0  0  0  0  0]\n",
            "The inverse of the pad sequence is:  nnp nnp , cd nns jj , md vb dt nn in dt jj nn nnp cd .\n",
            "Shape for that row:  (31, 46)\n",
            "(31, 46)\n",
            "\n",
            "\n",
            "Shape for y_train:  (1936, 31, 46)\n",
            "Shape for y_val:    (1256, 31, 46)\n",
            "Shape for y_test:   (636, 31, 46)\n"
          ]
        }
      ],
      "source": [
        "# as before, we haven't use functions for an understandable notebook\n",
        "\n",
        "# find the unique tags in the whole document using Tokenizer()\n",
        "tag_tokenizer = tf.keras.preprocessing.text.Tokenizer(split=' ', num_words=0, filters='\\t\\n')\n",
        "tag_tokenizer.fit_on_texts(df.Tags)\n",
        "n_tags = len(tag_tokenizer.word_index)+1 # the tokenizer starts from 1 for the encoding (0 reserved to the -PAD-)\n",
        "print('The unique tags are: {0}, plus -PAD-'.format(n_tags-1))\n",
        "print('Tags are: ', tag_tokenizer.word_index)\n",
        "print()\n",
        "\n",
        "\n",
        "# ---------TRAIN---------\n",
        "\n",
        "# encode the train tags using the previous Tokenizer()\n",
        "y_train = tag_tokenizer.texts_to_sequences(train.Tags)\n",
        "print('Sentence: \\t\\t\\t', train.Words.iloc[0])\n",
        "print('The tags for that row are: \\t', train.Tags.iloc[0])\n",
        "print('The encode for the tags are: \\t', y_train[0])\n",
        "print('The inverse of the sequence is: ', tag_tokenizer.sequences_to_texts(y_train)[0].upper())\n",
        "\n",
        "# add padding\n",
        "y_train = tf.keras.preprocessing.sequence.pad_sequences(y_train, padding = 'post', maxlen = max_length, truncating='post')\n",
        "print('The encode + pad for that row are: ', y_train[0])\n",
        "print('The inverse of the pad sequence is: ', tag_tokenizer.sequences_to_texts(y_train)[0])\n",
        "\n",
        "# one hot encoder for each tag in the sequence\n",
        "\n",
        "y_train = tf.keras.utils.to_categorical(y_train, num_classes = n_tags)\n",
        "print('Shape for that row: ', y_train[0].shape)\n",
        "print(y_train[0].shape)\n",
        "print()\n",
        "print()\n",
        "\n",
        "\n",
        "# ---------VALIDATION---------\n",
        "y_val = tag_tokenizer.texts_to_sequences(validation.Tags)\n",
        "y_val = tf.keras.preprocessing.sequence.pad_sequences(y_val, padding = 'post', maxlen = max_length, truncating='post')\n",
        "y_val = tf.keras.utils.to_categorical(y_val, num_classes = n_tags)\n",
        "\n",
        "\n",
        "# ---------TEST---------\n",
        "y_test = tag_tokenizer.texts_to_sequences(test.Tags)\n",
        "y_test = tf.keras.preprocessing.sequence.pad_sequences(y_test, padding = 'post', maxlen = max_length, truncating='post')\n",
        "y_test = tf.keras.utils.to_categorical(y_test, num_classes = n_tags)\n",
        "\n",
        "print('Shape for y_train: ', y_train.shape)\n",
        "print('Shape for y_val:   ', y_val.shape)\n",
        "print('Shape for y_test:  ', y_test.shape)"
      ]
    },
    {
      "cell_type": "markdown",
      "metadata": {
        "id": "DFx5EJGU4BWo"
      },
      "source": [
        "## 10. The models"
      ]
    },
    {
      "cell_type": "markdown",
      "metadata": {
        "id": "urb-5hFjsxV-"
      },
      "source": [
        "For this task we used the four models suggested in the instructions:\n",
        "- the BiLSTM model, which has a bidirectional LSTM followed by a Dense Layer;\n",
        "- the BiGRU model, which has a bidierectional GRU followed by a Dense Layer;\n",
        "- BiDense model, where two Dense Layers follow a bidirectional LSTM\n",
        "- ML-BiLSTM, which uses two Bidirectional LSTM followed by a Dense Layer.<br>\n",
        "\n",
        "Each Dense Layer used is actually a Time Distributed Dense layer, which is used as 'classification head' with a softmax activation function (except for the Bi_Dense model, which uses a Time Distributed Layer as hidden layer). \n",
        "\n",
        "For each architecture, after the input layer there is the embedding layer that replaces each word: in particular, each zero of padding is replaced by a vector of only zeros taken from the embedding matrix. As we said before, Keras Dense Layer doesn't support masking, so each model has also to learn the mapping from 0 to the class '-PAD-'.\n",
        "\n",
        "The tuning of the hyperparameters was performed on the validation set. For each model, we used a fixed batch size equal to 32 and n. of epochs equal to 30. To avoid overfitting, we used dropout to the input conmnections within the LSTM/GRU layer and also the L2 recurrent regularization.\n",
        "\n",
        "\n"
      ]
    },
    {
      "cell_type": "code",
      "source": [
        "batch_size = 32\n",
        "n_epochs = 30\n",
        "verbose = 0\n",
        "\n",
        "y_pred_val = {}\n",
        "histories = {}\n",
        "models = {}\n",
        "\n",
        "set_reproducibility(random_seed)"
      ],
      "metadata": {
        "id": "7JezEJcg78cp"
      },
      "execution_count": 27,
      "outputs": []
    },
    {
      "cell_type": "markdown",
      "source": [
        "**BiLSTM Model**\n",
        "\n",
        "\n",
        "---\n",
        "\n",
        "\n",
        "The first model is a Bidirectional LSTM followed by a Time Distributed Layer that acts as 'classification head'. We found that the best number of units for the Bidirectional LSTM layer is 64, and we also notice that by using a number of units greater than 100 the performance on the validation set doesn't improve. Here the input dropout value is 0.2.\n"
      ],
      "metadata": {
        "id": "_lgBa-uNiLnW"
      }
    },
    {
      "cell_type": "code",
      "source": [
        "input = Input(shape=max_length, name = \"Input_Layer\")\n",
        "embed_layer = Embedding(input_dim=embedding_matrix.shape[0], output_dim=dimension, weights=[embedding_matrix], input_length=max_length, trainable=False, name = 'Embedding_Layer')(input)\n",
        "bi_LSTM = Bidirectional(LSTM(64, return_sequences=True, dropout = 0.2, recurrent_regularizer = 'l2', name = 'LSTM', kernel_initializer=tf.keras.initializers.glorot_uniform(seed=random_seed), bias_initializer=tf.keras.initializers.zeros, recurrent_initializer=tf.keras.initializers.zeros), name='BiLSTM_Layer')(embed_layer)\n",
        "dense_layer = TimeDistributed(Dense(n_tags, activation='softmax', name = 'DenseLayer', kernel_initializer=tf.keras.initializers.glorot_uniform(seed=random_seed), bias_initializer=tf.keras.initializers.zeros), name='TimeDistributed_Layer')(bi_LSTM)\n",
        "model_Bi_LSTM = Model(input, dense_layer, name='BiLSTM')\n",
        "models['BiLSTM']=model_Bi_LSTM\n",
        "model_Bi_LSTM.summary()"
      ],
      "metadata": {
        "colab": {
          "base_uri": "https://localhost:8080/"
        },
        "id": "yihvoLKxaR9p",
        "outputId": "25ee29d4-2b9e-4912-8094-c1da5fe6c2fb"
      },
      "execution_count": 28,
      "outputs": [
        {
          "output_type": "stream",
          "name": "stdout",
          "text": [
            "Model: \"BiLSTM\"\n",
            "_________________________________________________________________\n",
            " Layer (type)                Output Shape              Param #   \n",
            "=================================================================\n",
            " Input_Layer (InputLayer)    [(None, 31)]              0         \n",
            "                                                                 \n",
            " Embedding_Layer (Embedding)  (None, 31, 100)          1094600   \n",
            "                                                                 \n",
            " BiLSTM_Layer (Bidirectional  (None, 31, 128)          84480     \n",
            " )                                                               \n",
            "                                                                 \n",
            " TimeDistributed_Layer (Time  (None, 31, 46)           5934      \n",
            " Distributed)                                                    \n",
            "                                                                 \n",
            "=================================================================\n",
            "Total params: 1,185,014\n",
            "Trainable params: 90,414\n",
            "Non-trainable params: 1,094,600\n",
            "_________________________________________________________________\n"
          ]
        }
      ]
    },
    {
      "cell_type": "markdown",
      "source": [
        "Then, we build the same model using the random embeddings. "
      ],
      "metadata": {
        "id": "Gwk6AJH6DyCU"
      }
    },
    {
      "cell_type": "code",
      "source": [
        "input = Input(shape=max_length, name = \"Input_Layer\")\n",
        "embed_layer = Embedding(input_dim=embedding_matrix.shape[0], output_dim=dimension, weights=[random_embedding_matrix], input_length=max_length, trainable=False, name = 'Embedding_Layer')(input)\n",
        "bi_LSTM = Bidirectional(LSTM(64, return_sequences=True, dropout = 0.2, recurrent_regularizer = 'l2', name = 'LSTM', kernel_initializer=tf.keras.initializers.glorot_uniform(seed=random_seed), bias_initializer=tf.keras.initializers.zeros, recurrent_initializer=tf.keras.initializers.zeros), name='BiLSTM_Layer')(embed_layer)\n",
        "dense_layer = TimeDistributed(Dense(n_tags, activation='softmax', name = 'DenseLayer', kernel_initializer=tf.keras.initializers.glorot_uniform(seed=random_seed), bias_initializer=tf.keras.initializers.zeros), name='TimeDistributed_Layer')(bi_LSTM)\n",
        "model_random_Bi_LSTM = Model(input, dense_layer, name='Random_BiLSTM')\n",
        "models['Random_BiLSTM']=model_random_Bi_LSTM\n",
        "model_random_Bi_LSTM.summary()"
      ],
      "metadata": {
        "colab": {
          "base_uri": "https://localhost:8080/"
        },
        "id": "t5bw8EsGDqL4",
        "outputId": "cb5b290d-ffff-45b5-a5de-da627bc31c58"
      },
      "execution_count": 29,
      "outputs": [
        {
          "output_type": "stream",
          "name": "stdout",
          "text": [
            "Model: \"Random_BiLSTM\"\n",
            "_________________________________________________________________\n",
            " Layer (type)                Output Shape              Param #   \n",
            "=================================================================\n",
            " Input_Layer (InputLayer)    [(None, 31)]              0         \n",
            "                                                                 \n",
            " Embedding_Layer (Embedding)  (None, 31, 100)          1094600   \n",
            "                                                                 \n",
            " BiLSTM_Layer (Bidirectional  (None, 31, 128)          84480     \n",
            " )                                                               \n",
            "                                                                 \n",
            " TimeDistributed_Layer (Time  (None, 31, 46)           5934      \n",
            " Distributed)                                                    \n",
            "                                                                 \n",
            "=================================================================\n",
            "Total params: 1,185,014\n",
            "Trainable params: 90,414\n",
            "Non-trainable params: 1,094,600\n",
            "_________________________________________________________________\n"
          ]
        }
      ]
    },
    {
      "cell_type": "markdown",
      "source": [
        "**BiGRU Model**\n",
        "\n",
        "\n",
        "---\n",
        "\n",
        "\n",
        "The second model is a Bidirectional GRU followed by a Time Distributed Layer that acts as 'classification head'. We found that the best number of units for the Bidirectional GRU layer is 64 (the same of the BiLSTM model), and we also notice that, like in the previous model,  by using a number of units greater than 100 the performance on the validation set doesn't improve. Here the input dropout value is 0.1."
      ],
      "metadata": {
        "id": "yapFDzGNmVsC"
      }
    },
    {
      "cell_type": "code",
      "execution_count": 30,
      "metadata": {
        "colab": {
          "base_uri": "https://localhost:8080/"
        },
        "id": "iErStepWNnLI",
        "outputId": "d077233d-effd-4cd8-d2d3-7d42951212f2"
      },
      "outputs": [
        {
          "output_type": "stream",
          "name": "stdout",
          "text": [
            "Model: \"BiGRU\"\n",
            "_________________________________________________________________\n",
            " Layer (type)                Output Shape              Param #   \n",
            "=================================================================\n",
            " Input_Layer (InputLayer)    [(None, 31)]              0         \n",
            "                                                                 \n",
            " Embedding_Layer (Embedding)  (None, 31, 100)          1094600   \n",
            "                                                                 \n",
            " BiGRU_Layer (Bidirectional)  (None, 31, 128)          63744     \n",
            "                                                                 \n",
            " TimeDistributed_Layer (Time  (None, 31, 46)           5934      \n",
            " Distributed)                                                    \n",
            "                                                                 \n",
            "=================================================================\n",
            "Total params: 1,164,278\n",
            "Trainable params: 69,678\n",
            "Non-trainable params: 1,094,600\n",
            "_________________________________________________________________\n"
          ]
        }
      ],
      "source": [
        "input = Input(shape=max_length, name = \"Input_Layer\")\n",
        "embed_layer = Embedding(input_dim=embedding_matrix.shape[0], name = 'Embedding_Layer', output_dim=dimension, weights=[embedding_matrix], input_length=max_length, trainable=False)(input)\n",
        "bi_LSTM = Bidirectional(GRU(64, return_sequences=True, dropout = 0.1, recurrent_regularizer = 'l2', name = 'GRU'), name='BiGRU_Layer')(embed_layer)\n",
        "dense_layer = TimeDistributed(Dense(n_tags, activation='softmax', name = 'DenseLayer'), name='TimeDistributed_Layer')(bi_LSTM)\n",
        "model_Bi_GRU = Model(input, dense_layer, name='BiGRU')\n",
        "models['BiGRU']=model_Bi_GRU\n",
        "model_Bi_GRU.summary()"
      ]
    },
    {
      "cell_type": "markdown",
      "source": [
        "**BiDense Model**\n",
        "\n",
        "\n",
        "---\n",
        "\n",
        "\n",
        "The third model is a Bidirectional LSTM followed by two Time Distributed Layers.\n",
        "\n",
        "Here we havea Bidirectional LSTM layer with 30 units, which is followed by two Time Distributed Dense Layers. The last one is the 'classification head', while the penultimate one is identical to the latter but uses ReLu as activation function.  Here the input dropout value for the Bidirectional LSTM is 0.1."
      ],
      "metadata": {
        "id": "XtOyMtiUnCxz"
      }
    },
    {
      "cell_type": "code",
      "execution_count": 31,
      "metadata": {
        "colab": {
          "base_uri": "https://localhost:8080/"
        },
        "id": "PaAiaOKwNw77",
        "outputId": "459bb9da-33d6-44d8-97d8-217772ae7963"
      },
      "outputs": [
        {
          "output_type": "stream",
          "name": "stdout",
          "text": [
            "Model: \"BiDense\"\n",
            "_________________________________________________________________\n",
            " Layer (type)                Output Shape              Param #   \n",
            "=================================================================\n",
            " Input_Layer (InputLayer)    [(None, 31)]              0         \n",
            "                                                                 \n",
            " Embedding_Layer (Embedding)  (None, 31, 100)          1094600   \n",
            "                                                                 \n",
            " BiLSTM_Layer (Bidirectional  (None, 31, 60)           31440     \n",
            " )                                                               \n",
            "                                                                 \n",
            " TimeDistributed1_Layer (Tim  (None, 31, 46)           2806      \n",
            " eDistributed)                                                   \n",
            "                                                                 \n",
            " TimeDistributed2_Layer (Tim  (None, 31, 46)           2162      \n",
            " eDistributed)                                                   \n",
            "                                                                 \n",
            "=================================================================\n",
            "Total params: 1,131,008\n",
            "Trainable params: 36,408\n",
            "Non-trainable params: 1,094,600\n",
            "_________________________________________________________________\n"
          ]
        }
      ],
      "source": [
        "input = Input(shape=max_length, name = \"Input_Layer\")\n",
        "embed_layer = Embedding(input_dim=embedding_matrix.shape[0], name = 'Embedding_Layer', output_dim=dimension, weights=[embedding_matrix], input_length=max_length, trainable=False)(input)\n",
        "bi_LSTM = Bidirectional(LSTM(30, return_sequences=True, dropout = 0.1, recurrent_regularizer = 'l2'), name='BiLSTM_Layer')(embed_layer) # When return_sequences is set to False, Dense is applied to the last time step only\n",
        "dense_layer = TimeDistributed(Dense(n_tags, activation='ReLU'), name='TimeDistributed1_Layer')(bi_LSTM)\n",
        "dense_layer = TimeDistributed(Dense(n_tags, activation='softmax'), name='TimeDistributed2_Layer')(dense_layer)\n",
        "model_Bi_Dense = Model(input, dense_layer, name='BiDense')\n",
        "models['BiDense']=model_Bi_Dense\n",
        "model_Bi_Dense.summary()"
      ]
    },
    {
      "cell_type": "markdown",
      "source": [
        "**ML_BiLSTM Model**\n",
        "\n",
        "\n",
        "---\n",
        "\n",
        "\n",
        "The last Model uses two Bidirectional LSTM layers, with 64 and 32 units respectively, followed by the usual 'classification head'. It's interesting to see that here we applied input dropout (with value equal to 0.1) to only the first Bi_LSTM layer:\n"
      ],
      "metadata": {
        "id": "sG0fHPD7Kpyn"
      }
    },
    {
      "cell_type": "code",
      "execution_count": 32,
      "metadata": {
        "colab": {
          "base_uri": "https://localhost:8080/"
        },
        "id": "6sAVharpFaCh",
        "outputId": "5b997084-261f-4022-f59c-779b0eebff86"
      },
      "outputs": [
        {
          "output_type": "stream",
          "name": "stdout",
          "text": [
            "Model: \"ML_BiLSTM\"\n",
            "_________________________________________________________________\n",
            " Layer (type)                Output Shape              Param #   \n",
            "=================================================================\n",
            " Input_Layer (InputLayer)    [(None, 31)]              0         \n",
            "                                                                 \n",
            " Embedding_Layer (Embedding)  (None, 31, 100)          1094600   \n",
            "                                                                 \n",
            " BiLSTM1_Layer (Bidirectiona  (None, 31, 128)          84480     \n",
            " l)                                                              \n",
            "                                                                 \n",
            " BiLSTM2_Layer (Bidirectiona  (None, 31, 64)           41216     \n",
            " l)                                                              \n",
            "                                                                 \n",
            " TimeDistributed_Layer (Time  (None, 31, 46)           2990      \n",
            " Distributed)                                                    \n",
            "                                                                 \n",
            "=================================================================\n",
            "Total params: 1,223,286\n",
            "Trainable params: 128,686\n",
            "Non-trainable params: 1,094,600\n",
            "_________________________________________________________________\n"
          ]
        }
      ],
      "source": [
        "input = Input(shape=max_length, name = \"Input_Layer\")\n",
        "embed_layer = Embedding(input_dim=embedding_matrix.shape[0], name = 'Embedding_Layer', output_dim=dimension, weights=[embedding_matrix], input_length=max_length, trainable=False)(input)\n",
        "bi_LSTM = Bidirectional(LSTM(64, return_sequences=True, dropout = 0.1, recurrent_regularizer = 'l2'), name='BiLSTM1_Layer')(embed_layer) # When return_sequences is set to False, Dense is applied to the last time step only\n",
        "bi_LSTM = Bidirectional(LSTM(32, return_sequences=True, recurrent_regularizer = 'l2'), name='BiLSTM2_Layer')(bi_LSTM) # When return_sequences is set to False, Dense is applied to the last time step only\n",
        "dense_layer = TimeDistributed(Dense(n_tags, activation='softmax'), name='TimeDistributed_Layer')(bi_LSTM)\n",
        "model_Double_BiLSTM = Model(input, dense_layer, name='ML_BiLSTM')\n",
        "models['ML_BiLSTM']=model_Double_BiLSTM\n",
        "model_Double_BiLSTM.summary()"
      ]
    },
    {
      "cell_type": "markdown",
      "source": [
        "Here we trained each model with a decreasing learning rate (0.1 --> 0.01 --> 0.001) over the epochs. "
      ],
      "metadata": {
        "id": "rPyPxj-Bn3YH"
      }
    },
    {
      "cell_type": "code",
      "execution_count": null,
      "metadata": {
        "id": "DO1-tsfBj7Mt",
        "colab": {
          "base_uri": "https://localhost:8080/"
        },
        "outputId": "a1d5a593-882a-4689-9b6d-4b59cbcb5e61"
      },
      "outputs": [
        {
          "output_type": "stream",
          "name": "stdout",
          "text": [
            "************************* Training for: BiLSTM *************************\n",
            "40/40 [==============================] - 1s 3ms/step\n",
            "\n",
            "\n",
            "************************* Training for: Random_BiLSTM *************************\n",
            "40/40 [==============================] - 1s 3ms/step\n",
            "\n",
            "\n",
            "************************* Training for: BiGRU *************************\n",
            "40/40 [==============================] - 1s 3ms/step\n",
            "\n",
            "\n",
            "************************* Training for: BiDense *************************\n",
            "40/40 [==============================] - 1s 3ms/step\n",
            "\n",
            "\n",
            "************************* Training for: ML_BiLSTM *************************\n",
            "40/40 [==============================] - 1s 5ms/step\n",
            "\n",
            "\n"
          ]
        }
      ],
      "source": [
        "from keras.callbacks import ModelCheckpoint\n",
        "\n",
        "callback = tf.keras.callbacks.EarlyStopping(monitor='loss', patience=3)\n",
        "checkpoint_path = \"training_weights\"\n",
        "checkpoint_dir = os.path.dirname(checkpoint_path)\n",
        "\n",
        "def scheduler(epoch, lr):\n",
        "\n",
        "    if epoch < n_epochs*0.2:\n",
        "        return 0.1\n",
        "   \n",
        "    elif epoch < n_epochs*0.8 and epoch >= n_epochs*0.2:\n",
        "        return 0.01\n",
        "    \n",
        "    else:\n",
        "        return 0.001\n",
        "\n",
        "cbk = tf.keras.callbacks.LearningRateScheduler(scheduler)\n",
        "\n",
        "\n",
        "for i in list(models.keys()):\n",
        "  print('************************* Training for:', models[i].name, '*************************')\n",
        "  #mcp_save = ModelCheckpoint(checkpoint_path+'/{0}_{1}.hdf5'.format(models[i].name, random_seed), save_best_only=True, monitor='val_acc', mode='min')\n",
        "  adam = tf.keras.optimizers.Adam(learning_rate = 0.01)\n",
        "  models[i].compile(loss='categorical_crossentropy', optimizer=adam, metrics=['acc'])\n",
        "  histories[i]=models[i].fit(X_train, y_train, epochs = n_epochs, batch_size = batch_size, callbacks = [callback, cbk], validation_data = (X_val, y_val), verbose = verbose)\n",
        "  print('\\n')\n"
      ]
    },
    {
      "cell_type": "markdown",
      "source": [
        "Below we can see the accuracy of each model on both training and validation set over the epochs."
      ],
      "metadata": {
        "id": "NLvv-MleolvC"
      }
    },
    {
      "cell_type": "code",
      "source": [
        "import matplotlib.pyplot as plt\n",
        "\n",
        "fig = plt.figure(figsize = (23,5))\n",
        "\n",
        "count = 0\n",
        "for j in ['BiLSTM', 'BiGRU', 'BiDense', 'ML_BiLSTM']: \n",
        "  plt.subplot(1, 4, count+1)\n",
        "  count += 1\n",
        "  plt.plot(histories[j].history['acc'])\n",
        "  plt.plot(histories[j].history['val_acc'])\n",
        "  plt.xticks(np.arange(0, n_epochs+2, 5))\n",
        "  plt.yticks(np.arange(0.3, 1, 0.1))\n",
        "  plt.title(models[j].name)\n",
        "  plt.ylabel('accuracy')\n",
        "  plt.xlabel('epochs')\n",
        "  plt.legend(['train', 'val'], loc='upper left')\n",
        "plt.show()"
      ],
      "metadata": {
        "id": "SMRLuq06C0Dj",
        "colab": {
          "base_uri": "https://localhost:8080/",
          "height": 350
        },
        "outputId": "62eb8d69-ebf8-4a6a-8ea6-bafac09a6d33"
      },
      "execution_count": null,
      "outputs": [
        {
          "output_type": "display_data",
          "data": {
            "text/plain": [
              "<Figure size 1656x360 with 4 Axes>"
            ],
            "image/png": "[encoded data removed]"
          },
          "metadata": {
            "needs_background": "light"
          }
        }
      ]
    },
    {
      "cell_type": "markdown",
      "source": [
        "These plots shows that the accuracy on the validation set is always close the one the training set: it seems that BiGRU overfits more than the other models, but if we print the accuracy of the last epoch (where it seems to be the highest difference between the two accuracies):"
      ],
      "metadata": {
        "id": "5nG_9UnnUgMr"
      }
    },
    {
      "cell_type": "code",
      "source": [
        "print('Accuracy on the training set for BiGRU:', round(histories['BiGRU'].history['acc'][-1],2))\n",
        "print('Accuracy on the validation set for BiGRU:', round(histories['BiGRU'].history['val_acc'][-1],2))"
      ],
      "metadata": {
        "colab": {
          "base_uri": "https://localhost:8080/"
        },
        "id": "3dL_YavXU4gH",
        "outputId": "34fbeb91-b8c9-40b5-ed29-a6c872f141f7"
      },
      "execution_count": null,
      "outputs": [
        {
          "output_type": "stream",
          "name": "stdout",
          "text": [
            "Accuracy on the training set for BiGRU: 0.96\n",
            "Accuracy on the validation set for BiGRU: 0.93\n"
          ]
        }
      ]
    },
    {
      "cell_type": "markdown",
      "source": [
        "we can see that there is a difference of only the 3% between the two."
      ],
      "metadata": {
        "id": "SKkKVewjVTmy"
      }
    },
    {
      "cell_type": "markdown",
      "metadata": {
        "id": "CYDsfY9cGgrt"
      },
      "source": [
        "## 11. F1 Score for the models on the validation set"
      ]
    },
    {
      "cell_type": "code",
      "execution_count": 46,
      "metadata": {
        "id": "_Kpe-CktfwgN"
      },
      "outputs": [],
      "source": [
        "# here there are some print functions (for macro F1 score, classification report, etc)\n",
        "# you can skip this part and see directly the results \n",
        "from numpy import argmax\n",
        "from sklearn.metrics import classification_report\n",
        "from statistics import mean\n",
        "\n",
        "punctuation = [\",\", \".\", \"''\", \":\", \"(\", \")\", \"``\", \"#\", \"{\", \"}\", '$']\n",
        "\n",
        "# we build a single list where appending all the results\n",
        "# ex: if val.shape=100 and max_length=10 (max n. of words in a sentence), the total length is 100*10=1000\n",
        "# y --> the list of lists of one-hot-encoding\n",
        "# max_length --> max n. of words in a sentence\n",
        "def unique_list(y, max_length):\n",
        "  unique_list = []\n",
        "  for i in range(len(y)):\n",
        "    for j in range(max_length):\n",
        "\n",
        "      # first we convert each one-hot-encoding in the integer encoding \n",
        "      argmax = y[i][j].argmax()\n",
        "\n",
        "      # not pad\n",
        "      if argmax > 0:\n",
        "        # we take the word using the encode integer\n",
        "        tag = tag_tokenizer.index_word[argmax]\n",
        "        unique_list.append(tag.upper())\n",
        "\n",
        "      # padding\n",
        "      else:\n",
        "        unique_list.append(\"-PAD-\")\n",
        "  return unique_list\n",
        "\n",
        "\n",
        "# print the macro F1 score without punctuation\n",
        "# print_report --> True if you want to show accuracy and F1 for each class\n",
        "# pad --> True if you want to print the F1 score with the class -PAD-\n",
        "# printF1 --> True if you want to show the macro F1\n",
        "def f1_score(y_true, y_pred, name, print_report = False, pad = False, printF1=True, printClasses=False):\n",
        "  if print_report: print(\"Report for \", name)\n",
        "  report = classification_report(y_true, y_pred, zero_division=0, output_dict=True)\n",
        "  f1 = []\n",
        "  to_remove = [\"macro avg\", \"accuracy\",\"weighted avg\"]\n",
        "  total = 0\n",
        "  count_1 = 0\n",
        "  count_2 = 0\n",
        "  count_3 = 0\n",
        "  if not pad: to_remove.append('-PAD-')\n",
        "  for c in list(report.keys()):\n",
        "    if c in punctuation or c in to_remove: continue\n",
        "    total += 1\n",
        "    f1.append(report[c][\"f1-score\"])\n",
        "    if print_report:\n",
        "      print(\"Class: {0}\\tF1: {1:.3f}\\tSupport: {2}\\tPrecision: {3}\\t\\tRecall: {4}\".format(c, report[c][\"f1-score\"], report[c]['support'], round(report[c][\"precision\"],2), round(report[c][\"recall\"],2)))\n",
        "      if report[c][\"f1-score\"] >= 0.8:\n",
        "        count_1 += 1\n",
        "      elif report[c][\"f1-score\"] >= 0.5 and report[c][\"f1-score\"] < 0.8 :\n",
        "        count_2 += 1\n",
        "      else: count_3 += 1\n",
        "  if printF1:\n",
        "    print(\"The F1-macro for {0} is: {1:.3f}\".format(name, mean(f1)))\n",
        "  if printClasses:\n",
        "    print(\"The percentage of classes with F1 score higher than 0.8 is {:.2%}\".format(round(count_1/total, 2)))\n",
        "    print(\"The percentage of classes with F1 score between 0.5 and 0.8 is {:.2%} \".format(round(count_2/total,2)))\n",
        "    print(\"The percentage of classes with F1 score lower than 0.5 is {:.2%} \".format(round(count_3/total,2)))\n",
        "  if print_report: print()\n",
        "  return mean(f1), report\n",
        "\n",
        "\n",
        "# print the F1 score for the class -PAD-\n",
        "def f1_pad(y_true, y_pred, name):\n",
        "   report = classification_report(y_true, y_pred, zero_division=0, output_dict=True)\n",
        "   for k in list(report.keys()):\n",
        "     if k == '-PAD-':\n",
        "       print('The -PAD- F1 score for {0} is: {1}'.format(name, round(report[k]['f1-score'],3)))\n",
        "\n",
        "\n",
        "# print the report (F1, score) for each class for the OOVs\n",
        "def OOV_report(y_test, y_pred, X_test, name, OOV):\n",
        "  count_true_OOV = 0 # count the number of OOV correctly guessed\n",
        "  total_OOV = 0 # it's not sufficient use the voc OOV length, because a OOV can appear many times\n",
        "  true_OOV = []\n",
        "  pred_OOV = []\n",
        "  for i in range(len(X_test)):\n",
        "    if X_test[i] in OOV:\n",
        "      if y_test[i] == y_pred[i]:\n",
        "        count_true_OOV += 1\n",
        "      pred_OOV.append(y_pred[i])\n",
        "      true_OOV.append(y_test[i])\n",
        "      total_OOV += 1\n",
        "  f1_score(true_OOV, pred_OOV, name=name, print_report=True)\n",
        "  return count_true_OOV/total_OOV*100\n",
        "\n",
        "\n",
        "# print the F1 diff between the left model and the right model (for each class, it prints F1_left - F1_right)\n",
        "def diff_f1(left, right, right_name='Random Embedding', string='context and random embedding'):\n",
        "  print('F1 score difference between {0}:'.format(string))\n",
        "  to_remove = [\"macro avg\", \"weighted avg\", \"accuracy\"]\n",
        "  for i in list(left.keys()):\n",
        "    if i in punctuation or i in to_remove: continue\n",
        "    diff = None\n",
        "    try:\n",
        "      diff = left[i]['f1-score']-right[i]['f1-score']\n",
        "      diff = round(diff, 2)\n",
        "      if diff >= 0: print('Class: {0}\\tF1 diff: \\033[92m+{1}\\033[0m'.format(i, abs(diff)))\n",
        "      else: print('Class: {0}\\tF1 diff: \\033[91m-{1}\\033[0m'.format(i, abs(diff)))\n",
        "    except: # if a class isn't in the right model\n",
        "      diff = left[i]['f1-score']\n",
        "      print('Class: {0}\\tF1 diff: {1} (Not in the {2})'.format(i, round(abs(diff),2), right_name))"
      ]
    },
    {
      "cell_type": "code",
      "source": [
        "!git clone https://github.com/DitucSpa/POS_Tagging_NLP"
      ],
      "metadata": {
        "colab": {
          "base_uri": "https://localhost:8080/"
        },
        "id": "PqdZ0f7lJdr2",
        "outputId": "4b7bcee3-4f05-40b8-b96c-5bae2c7c2a0e"
      },
      "execution_count": 34,
      "outputs": [
        {
          "output_type": "stream",
          "name": "stdout",
          "text": [
            "Cloning into 'POS_Tagging_NLP'...\n",
            "remote: Enumerating objects: 36, done.\u001b[K\n",
            "remote: Counting objects: 100% (36/36), done.\u001b[K\n",
            "remote: Compressing objects: 100% (12/12), done.\u001b[K\n",
            "remote: Total 36 (delta 19), reused 26 (delta 18), pack-reused 0\u001b[K\n",
            "Unpacking objects: 100% (36/36), done.\n"
          ]
        }
      ]
    },
    {
      "cell_type": "code",
      "source": [
        "checkpoint_path = \"POS_Tagging_NLP/training_weights\""
      ],
      "metadata": {
        "id": "gG6dkMgAKGMC"
      },
      "execution_count": 35,
      "outputs": []
    },
    {
      "cell_type": "markdown",
      "source": [
        "Now, we upload the model weights for each model. We train the model for seed 1, 10 and 6666. In addition, we save the model with seed equal to 10 for showing the F1 score for each tag and the test of the models. "
      ],
      "metadata": {
        "id": "sDQN5RNEBWR1"
      }
    },
    {
      "cell_type": "code",
      "source": [
        "concat_val = unique_list(y_val, max_length)\n",
        "for i in list(models.keys()):\n",
        "  val_mean = []\n",
        "  for seed_loop in [1, 10, 66666]:\n",
        "    models[i].load_weights(checkpoint_path+'/{0}_{1}.hdf5'.format(models[i].name, seed_loop)) # load weights\n",
        "    adam = tf.keras.optimizers.Adam(learning_rate = 0.01)\n",
        "    models[i].compile(loss='categorical_crossentropy', optimizer=adam, metrics=['acc'])\n",
        "    models[i].evaluate(X_val, y_val, batch_size=32, verbose=0)\n",
        "    y_pred=models[i].predict(X_val, verbose=0)\n",
        "    if seed_loop==10: y_pred_val[i]=y_pred \n",
        "    tmp, _ = f1_score(concat_val, unique_list(y_pred, max_length), name = models[i].name+' without -PAD-', print_report=False, printF1=False)\n",
        "    val_mean.append(tmp)\n",
        "  print('Model: {0}, mean val F1: {1}'.format(models[i].name, round(mean(val_mean),2)))"
      ],
      "metadata": {
        "colab": {
          "base_uri": "https://localhost:8080/"
        },
        "id": "01e5hb5g4CBh",
        "outputId": "f126f92f-95ec-45bd-dfa8-df1dd5ea6afa"
      },
      "execution_count": 45,
      "outputs": [
        {
          "output_type": "stream",
          "name": "stdout",
          "text": [
            "Model: BiLSTM, mean val F1: 0.75\n",
            "Model: Random_BiLSTM, mean val F1: 0.74\n",
            "Model: BiGRU, mean val F1: 0.73\n",
            "Model: BiDense, mean val F1: 0.7\n",
            "Model: ML_BiLSTM, mean val F1: 0.74\n"
          ]
        }
      ]
    },
    {
      "cell_type": "markdown",
      "metadata": {
        "id": "V8rDSqaR6vAW"
      },
      "source": [
        "Let's see the F1 score on the validation set with and without the padding for the random and context embedding with seed=10. In the following box, we show with green values the F1 scores for the classes where the context embedding has a higher/equal values than random."
      ]
    },
    {
      "cell_type": "code",
      "execution_count": 37,
      "metadata": {
        "id": "mTgvbntINPFf",
        "colab": {
          "base_uri": "https://localhost:8080/"
        },
        "outputId": "39d7958e-bc78-42bd-a4fa-2786cb2f67a0"
      },
      "outputs": [
        {
          "output_type": "stream",
          "name": "stdout",
          "text": [
            "The F1-macro for BiLSTM without -PAD- is: 0.763\n",
            "The F1-macro for Random_BiLSTM without -PAD- is: 0.736\n",
            "F1 score difference between context and random embedding:\n",
            "Class: -PAD-\tF1 diff: \u001b[92m+0.0\u001b[0m\n",
            "Class: CC\tF1 diff: \u001b[91m-0.01\u001b[0m\n",
            "Class: CD\tF1 diff: \u001b[91m-0.01\u001b[0m\n",
            "Class: DT\tF1 diff: \u001b[92m+0.0\u001b[0m\n",
            "Class: EX\tF1 diff: \u001b[92m+0.0\u001b[0m\n",
            "Class: FW\tF1 diff: \u001b[92m+0.0\u001b[0m\n",
            "Class: IN\tF1 diff: \u001b[92m+0.0\u001b[0m\n",
            "Class: JJ\tF1 diff: \u001b[92m+0.0\u001b[0m\n",
            "Class: JJR\tF1 diff: \u001b[92m+0.01\u001b[0m\n",
            "Class: JJS\tF1 diff: \u001b[91m-0.07\u001b[0m\n",
            "Class: LS\tF1 diff: \u001b[92m+0.0\u001b[0m\n",
            "Class: MD\tF1 diff: \u001b[92m+0.0\u001b[0m\n",
            "Class: NN\tF1 diff: \u001b[92m+0.0\u001b[0m\n",
            "Class: NNP\tF1 diff: \u001b[91m-0.01\u001b[0m\n",
            "Class: NNPS\tF1 diff: \u001b[92m+0.04\u001b[0m\n",
            "Class: NNS\tF1 diff: \u001b[91m-0.01\u001b[0m\n",
            "Class: PDT\tF1 diff: \u001b[92m+0.0\u001b[0m\n",
            "Class: POS\tF1 diff: \u001b[91m-0.01\u001b[0m\n",
            "Class: PRP\tF1 diff: \u001b[92m+0.0\u001b[0m\n",
            "Class: PRP$\tF1 diff: \u001b[92m+0.0\u001b[0m\n",
            "Class: RB\tF1 diff: \u001b[92m+0.0\u001b[0m\n",
            "Class: RBR\tF1 diff: \u001b[91m-0.02\u001b[0m\n",
            "Class: RBS\tF1 diff: \u001b[92m+0.35\u001b[0m\n",
            "Class: RP\tF1 diff: \u001b[91m-0.04\u001b[0m\n",
            "Class: TO\tF1 diff: \u001b[92m+0.0\u001b[0m\n",
            "Class: UH\tF1 diff: \u001b[92m+0.67\u001b[0m\n",
            "Class: VB\tF1 diff: \u001b[91m-0.01\u001b[0m\n",
            "Class: VBD\tF1 diff: \u001b[92m+0.0\u001b[0m\n",
            "Class: VBG\tF1 diff: \u001b[92m+0.0\u001b[0m\n",
            "Class: VBN\tF1 diff: \u001b[92m+0.01\u001b[0m\n",
            "Class: VBP\tF1 diff: \u001b[92m+0.03\u001b[0m\n",
            "Class: VBZ\tF1 diff: \u001b[92m+0.0\u001b[0m\n",
            "Class: WDT\tF1 diff: \u001b[92m+0.04\u001b[0m\n",
            "Class: WP\tF1 diff: \u001b[92m+0.0\u001b[0m\n",
            "Class: WP$\tF1 diff: \u001b[92m+0.0\u001b[0m\n",
            "Class: WRB\tF1 diff: \u001b[91m-0.01\u001b[0m\n"
          ]
        }
      ],
      "source": [
        "concat_val = unique_list(y_val, max_length)\n",
        "diff_f1(f1_score(concat_val, unique_list(y_pred_val['BiLSTM'], max_length), name = models['BiLSTM'].name+' without -PAD-', print_report = False)[1], f1_score(concat_val, unique_list(y_pred_val['Random_BiLSTM'], max_length), name = models['Random_BiLSTM'].name+' without -PAD-', print_report = False)[1] )"
      ]
    },
    {
      "cell_type": "markdown",
      "source": [
        "First of all, the macro F1 score is higher for the context embedding of 3%. More specifically, we can see that only 10 classes have a higher value for the F1 score for random embedding, and we can also notice that these differences are very little, since the highest one has an absolute value of 0.7. Regarding the classes with an higher F1 score for the context embedding, only for RBS and UH there is an big improvement, while for the others the values are more or less the same.\n",
        "Then, we can conclude that the context embedding has a big impact only for the RBS and UH classes (with an increase of 0.35 and 0.67 respectively), which however reflects an improvement for the F1 score of the context embedding of 3%. Since this embedding has the highest F1 score, we picked this. "
      ],
      "metadata": {
        "id": "FmxpI1eYxi-8"
      }
    },
    {
      "cell_type": "code",
      "source": [
        "for k in ['BiLSTM', 'BiGRU', 'BiDense', 'ML_BiLSTM']:\n",
        "  f1_pad(concat_val, unique_list(y_pred_val[k], max_length), models[k].name)\n",
        "  f1 = f1_score(concat_val, unique_list(y_pred_val[k], max_length), name = models[k].name+' without -PAD-', print_report=False)\n",
        "  print()"
      ],
      "metadata": {
        "colab": {
          "base_uri": "https://localhost:8080/"
        },
        "id": "xJELhTqxg8YF",
        "outputId": "bb9b3af8-6f5f-4c8c-e2c6-f8e33b398d19"
      },
      "execution_count": 38,
      "outputs": [
        {
          "output_type": "stream",
          "name": "stdout",
          "text": [
            "The -PAD- F1 score for BiLSTM is: 1.0\n",
            "The F1-macro for BiLSTM without -PAD- is: 0.763\n",
            "\n",
            "The -PAD- F1 score for BiGRU is: 1.0\n",
            "The F1-macro for BiGRU without -PAD- is: 0.722\n",
            "\n",
            "The -PAD- F1 score for BiDense is: 1.0\n",
            "The F1-macro for BiDense without -PAD- is: 0.707\n",
            "\n",
            "The -PAD- F1 score for ML_BiLSTM is: 1.0\n",
            "The F1-macro for ML_BiLSTM without -PAD- is: 0.745\n",
            "\n"
          ]
        }
      ]
    },
    {
      "cell_type": "markdown",
      "source": [
        "As we can see, each model has correctly leant (with F1 score = 1) the mapping from the zeros of the padding to the class -PAD-. According to the macro F1 score on the validation set, the two best models are the Bi_LSTM and the ML-BiLSTM, which we are now going to evaluate on the test set, by using the weights saved with seed=10."
      ],
      "metadata": {
        "id": "qvUkLabOo4Em"
      }
    },
    {
      "cell_type": "markdown",
      "metadata": {
        "id": "-xaiKBYfo-ej"
      },
      "source": [
        "## 12. Test of BiLSTM model \n",
        "Now we test the BiLSTM model on the test set and prints some results:"
      ]
    },
    {
      "cell_type": "code",
      "execution_count": 39,
      "metadata": {
        "colab": {
          "base_uri": "https://localhost:8080/"
        },
        "id": "yvqlMN2p4zyc",
        "outputId": "15ec8f2b-3424-4455-b949-0d94086c9321"
      },
      "outputs": [
        {
          "output_type": "stream",
          "name": "stdout",
          "text": [
            "Report for  BiLSTM without -PAD-\n",
            "Class: CC\tF1: 0.994\tSupport: 336\tPrecision: 0.99\t\tRecall: 1.0\n",
            "Class: CD\tF1: 0.978\tSupport: 767\tPrecision: 0.99\t\tRecall: 0.97\n",
            "Class: DT\tF1: 0.987\tSupport: 1269\tPrecision: 0.99\t\tRecall: 0.98\n",
            "Class: EX\tF1: 0.909\tSupport: 5\tPrecision: 0.83\t\tRecall: 1.0\n",
            "Class: IN\tF1: 0.963\tSupport: 1538\tPrecision: 0.95\t\tRecall: 0.97\n",
            "Class: JJ\tF1: 0.806\tSupport: 869\tPrecision: 0.78\t\tRecall: 0.83\n",
            "Class: JJR\tF1: 0.759\tSupport: 57\tPrecision: 0.8\t\tRecall: 0.72\n",
            "Class: JJS\tF1: 0.807\tSupport: 31\tPrecision: 0.88\t\tRecall: 0.74\n",
            "Class: LS\tF1: 0.000\tSupport: 0\tPrecision: 0.0\t\tRecall: 0.0\n",
            "Class: MD\tF1: 0.982\tSupport: 160\tPrecision: 0.96\t\tRecall: 1.0\n",
            "Class: NN\tF1: 0.872\tSupport: 2217\tPrecision: 0.86\t\tRecall: 0.88\n",
            "Class: NNP\tF1: 0.853\tSupport: 1414\tPrecision: 0.89\t\tRecall: 0.82\n",
            "Class: NNPS\tF1: 0.182\tSupport: 39\tPrecision: 0.31\t\tRecall: 0.13\n",
            "Class: NNS\tF1: 0.907\tSupport: 881\tPrecision: 0.89\t\tRecall: 0.93\n",
            "Class: PDT\tF1: 0.000\tSupport: 4\tPrecision: 0.0\t\tRecall: 0.0\n",
            "Class: POS\tF1: 0.959\tSupport: 143\tPrecision: 0.95\t\tRecall: 0.97\n",
            "Class: PRP\tF1: 0.995\tSupport: 184\tPrecision: 0.99\t\tRecall: 1.0\n",
            "Class: PRP$\tF1: 0.995\tSupport: 94\tPrecision: 0.99\t\tRecall: 1.0\n",
            "Class: RB\tF1: 0.865\tSupport: 360\tPrecision: 0.88\t\tRecall: 0.85\n",
            "Class: RBR\tF1: 0.343\tSupport: 14\tPrecision: 0.29\t\tRecall: 0.43\n",
            "Class: RBS\tF1: 0.429\tSupport: 3\tPrecision: 0.27\t\tRecall: 1.0\n",
            "Class: RP\tF1: 0.615\tSupport: 33\tPrecision: 0.48\t\tRecall: 0.85\n",
            "Class: TO\tF1: 0.999\tSupport: 366\tPrecision: 1.0\t\tRecall: 1.0\n",
            "Class: VB\tF1: 0.910\tSupport: 379\tPrecision: 0.9\t\tRecall: 0.92\n",
            "Class: VBD\tF1: 0.880\tSupport: 604\tPrecision: 0.87\t\tRecall: 0.89\n",
            "Class: VBG\tF1: 0.837\tSupport: 210\tPrecision: 0.84\t\tRecall: 0.83\n",
            "Class: VBN\tF1: 0.717\tSupport: 350\tPrecision: 0.76\t\tRecall: 0.68\n",
            "Class: VBP\tF1: 0.810\tSupport: 130\tPrecision: 0.84\t\tRecall: 0.78\n",
            "Class: VBZ\tF1: 0.921\tSupport: 271\tPrecision: 0.92\t\tRecall: 0.92\n",
            "Class: WDT\tF1: 0.809\tSupport: 79\tPrecision: 0.96\t\tRecall: 0.7\n",
            "Class: WP\tF1: 1.000\tSupport: 18\tPrecision: 1.0\t\tRecall: 1.0\n",
            "Class: WP$\tF1: 1.000\tSupport: 2\tPrecision: 1.0\t\tRecall: 1.0\n",
            "Class: WRB\tF1: 1.000\tSupport: 23\tPrecision: 1.0\t\tRecall: 1.0\n",
            "The F1-macro for BiLSTM without -PAD- is: 0.790\n",
            "The percentage of classes with F1 score higher than 0.8 is 76.00%\n",
            "The percentage of classes with F1 score between 0.5 and 0.8 is 9.00% \n",
            "The percentage of classes with F1 score lower than 0.5 is 15.00% \n",
            "\n"
          ]
        }
      ],
      "source": [
        "models['BiLSTM'].load_weights(checkpoint_path+'/BiLSTM_10.hdf5')\n",
        "y_pred_bi_lstm = models['BiLSTM'].predict(X_test, verbose=verbose)\n",
        "y_pred_bi_lstm = unique_list(y_pred_bi_lstm, max_length)\n",
        "y_test_bi_lstm = unique_list(y_test, max_length)\n",
        "_,_ = f1_score(y_test_bi_lstm, y_pred_bi_lstm, name='BiLSTM without -PAD-', print_report=True, pad=False, printClasses=True)"
      ]
    },
    {
      "cell_type": "markdown",
      "source": [
        "The performance on the test set in 0.79, which is higher than the one on the validation set, 0.76. To explore more in detail the reasons of this behaviour,let's compare the performance of the model (BiLSTM) for each class, on the validation and test splits. The green results are better F1 scores for the validation set, while the red results for the test split."
      ],
      "metadata": {
        "id": "L4tdYTBRIZC_"
      }
    },
    {
      "cell_type": "code",
      "source": [
        "diff_f1(f1_score(concat_val, unique_list(y_pred_val['BiLSTM'], max_length), name = models['BiLSTM'].name+' without -PAD- for VAL', print_report = False)[1], f1_score(y_test_bi_lstm, y_pred_bi_lstm, name = models['BiLSTM'].name+' without -PAD- for TEST', print_report = False)[1], right_name='Test', string='validation and test')"
      ],
      "metadata": {
        "colab": {
          "base_uri": "https://localhost:8080/"
        },
        "id": "ldzgAFfO2Xxb",
        "outputId": "22123817-71c8-4901-b64e-8990da1d1dc3"
      },
      "execution_count": 40,
      "outputs": [
        {
          "output_type": "stream",
          "name": "stdout",
          "text": [
            "The F1-macro for BiLSTM without -PAD- for VAL is: 0.763\n",
            "The F1-macro for BiLSTM without -PAD- for TEST is: 0.790\n",
            "F1 score difference between validation and test:\n",
            "Class: -PAD-\tF1 diff: \u001b[92m+0.0\u001b[0m\n",
            "Class: CC\tF1 diff: \u001b[91m-0.01\u001b[0m\n",
            "Class: CD\tF1 diff: \u001b[91m-0.02\u001b[0m\n",
            "Class: DT\tF1 diff: \u001b[92m+0.0\u001b[0m\n",
            "Class: EX\tF1 diff: \u001b[92m+0.04\u001b[0m\n",
            "Class: FW\tF1 diff: 0.0 (Not in the Test)\n",
            "Class: IN\tF1 diff: \u001b[92m+0.0\u001b[0m\n",
            "Class: JJ\tF1 diff: \u001b[91m-0.01\u001b[0m\n",
            "Class: JJR\tF1 diff: \u001b[92m+0.0\u001b[0m\n",
            "Class: JJS\tF1 diff: \u001b[91m-0.06\u001b[0m\n",
            "Class: LS\tF1 diff: \u001b[92m+0.0\u001b[0m\n",
            "Class: MD\tF1 diff: \u001b[92m+0.01\u001b[0m\n",
            "Class: NN\tF1 diff: \u001b[91m-0.01\u001b[0m\n",
            "Class: NNP\tF1 diff: \u001b[91m-0.02\u001b[0m\n",
            "Class: NNPS\tF1 diff: \u001b[92m+0.04\u001b[0m\n",
            "Class: NNS\tF1 diff: \u001b[91m-0.01\u001b[0m\n",
            "Class: PDT\tF1 diff: \u001b[92m+0.11\u001b[0m\n",
            "Class: POS\tF1 diff: \u001b[92m+0.0\u001b[0m\n",
            "Class: PRP\tF1 diff: \u001b[92m+0.0\u001b[0m\n",
            "Class: PRP$\tF1 diff: \u001b[92m+0.0\u001b[0m\n",
            "Class: RB\tF1 diff: \u001b[92m+0.01\u001b[0m\n",
            "Class: RBR\tF1 diff: \u001b[92m+0.08\u001b[0m\n",
            "Class: RBS\tF1 diff: \u001b[92m+0.18\u001b[0m\n",
            "Class: RP\tF1 diff: \u001b[91m-0.13\u001b[0m\n",
            "Class: TO\tF1 diff: \u001b[92m+0.0\u001b[0m\n",
            "Class: UH\tF1 diff: 0.67 (Not in the Test)\n",
            "Class: VB\tF1 diff: \u001b[91m-0.05\u001b[0m\n",
            "Class: VBD\tF1 diff: \u001b[91m-0.06\u001b[0m\n",
            "Class: VBG\tF1 diff: \u001b[91m-0.01\u001b[0m\n",
            "Class: VBN\tF1 diff: \u001b[91m-0.02\u001b[0m\n",
            "Class: VBP\tF1 diff: \u001b[92m+0.01\u001b[0m\n",
            "Class: VBZ\tF1 diff: \u001b[92m+0.01\u001b[0m\n",
            "Class: WDT\tF1 diff: \u001b[91m-0.09\u001b[0m\n",
            "Class: WP\tF1 diff: \u001b[91m-0.01\u001b[0m\n",
            "Class: WP$\tF1 diff: \u001b[92m+0.0\u001b[0m\n",
            "Class: WRB\tF1 diff: \u001b[91m-0.01\u001b[0m\n"
          ]
        }
      ]
    },
    {
      "cell_type": "markdown",
      "source": [
        "As we can see, half of the classes are better for the validation set, the other half for the test split, even if the differences are very little. What affects the final F1 score is that in the test set there are two classes that don't appear (UH and FW, as shown in the chapter '4. Some Statistics'). Besides, their F1 scores are very low: these two values decrease the macro F1 score of the validation split wrt the test set. Indeed, if we print the F1 score for Test and Val without the classes UH and FW we obtain the same macro F1 score."
      ],
      "metadata": {
        "id": "Ey5lCuT14u9P"
      }
    },
    {
      "cell_type": "code",
      "source": [
        "punctuation = [\",\", \".\", \"''\", \":\", \"(\", \")\", \"``\", \"#\", \"{\", \"}\", '$', 'UH', 'FW']\n",
        "_ = f1_score(concat_val, unique_list(y_pred_val['BiLSTM'], max_length), name = models['BiLSTM'].name+' without -PAD- for VAL', print_report = False)[0]\n",
        "_ = f1_score(y_test_bi_lstm, y_pred_bi_lstm, name = models['BiLSTM'].name+' without -PAD- for TEST', print_report = False)[0]\n",
        "punctuation = [\",\", \".\", \"''\", \":\", \"(\", \")\", \"``\", \"#\", \"{\", \"}\", '$']"
      ],
      "metadata": {
        "colab": {
          "base_uri": "https://localhost:8080/"
        },
        "id": "vlt4nrX8BEDN",
        "outputId": "0088a8b8-3217-49e4-dc4b-a78f1dbce447"
      },
      "execution_count": 41,
      "outputs": [
        {
          "output_type": "stream",
          "name": "stdout",
          "text": [
            "The F1-macro for BiLSTM without -PAD- for VAL is: 0.789\n",
            "The F1-macro for BiLSTM without -PAD- for TEST is: 0.790\n"
          ]
        }
      ]
    },
    {
      "cell_type": "markdown",
      "source": [
        "<br>"
      ],
      "metadata": {
        "id": "C4znVehOBd2f"
      }
    },
    {
      "cell_type": "markdown",
      "metadata": {
        "id": "6deLYFur61cs"
      },
      "source": [
        "## 13. Test of the ML-BiLSTM\n",
        "Now we test the BiLSTM model on the test set and prints some results:"
      ]
    },
    {
      "cell_type": "code",
      "execution_count": 42,
      "metadata": {
        "colab": {
          "base_uri": "https://localhost:8080/"
        },
        "id": "EuGecFAr-w1j",
        "outputId": "b9c7989c-9c69-470e-d031-1ea8014eb0ee"
      },
      "outputs": [
        {
          "output_type": "stream",
          "name": "stdout",
          "text": [
            "Report for  ML-BiLSTM without -PAD-\n",
            "Class: CC\tF1: 0.994\tSupport: 336\tPrecision: 0.99\t\tRecall: 1.0\n",
            "Class: CD\tF1: 0.974\tSupport: 767\tPrecision: 0.98\t\tRecall: 0.97\n",
            "Class: DT\tF1: 0.987\tSupport: 1269\tPrecision: 0.99\t\tRecall: 0.98\n",
            "Class: EX\tF1: 0.909\tSupport: 5\tPrecision: 0.83\t\tRecall: 1.0\n",
            "Class: IN\tF1: 0.960\tSupport: 1538\tPrecision: 0.95\t\tRecall: 0.97\n",
            "Class: JJ\tF1: 0.803\tSupport: 869\tPrecision: 0.78\t\tRecall: 0.83\n",
            "Class: JJR\tF1: 0.835\tSupport: 57\tPrecision: 0.83\t\tRecall: 0.84\n",
            "Class: JJS\tF1: 0.759\tSupport: 31\tPrecision: 0.81\t\tRecall: 0.71\n",
            "Class: MD\tF1: 0.981\tSupport: 160\tPrecision: 0.97\t\tRecall: 0.99\n",
            "Class: NN\tF1: 0.873\tSupport: 2217\tPrecision: 0.87\t\tRecall: 0.88\n",
            "Class: NNP\tF1: 0.866\tSupport: 1414\tPrecision: 0.89\t\tRecall: 0.84\n",
            "Class: NNPS\tF1: 0.089\tSupport: 39\tPrecision: 0.33\t\tRecall: 0.05\n",
            "Class: NNS\tF1: 0.904\tSupport: 881\tPrecision: 0.88\t\tRecall: 0.93\n",
            "Class: PDT\tF1: 0.000\tSupport: 4\tPrecision: 0.0\t\tRecall: 0.0\n",
            "Class: POS\tF1: 0.931\tSupport: 143\tPrecision: 0.96\t\tRecall: 0.9\n",
            "Class: PRP\tF1: 0.997\tSupport: 184\tPrecision: 1.0\t\tRecall: 0.99\n",
            "Class: PRP$\tF1: 0.995\tSupport: 94\tPrecision: 0.99\t\tRecall: 1.0\n",
            "Class: RB\tF1: 0.836\tSupport: 360\tPrecision: 0.85\t\tRecall: 0.82\n",
            "Class: RBR\tF1: 0.429\tSupport: 14\tPrecision: 0.43\t\tRecall: 0.43\n",
            "Class: RBS\tF1: 0.308\tSupport: 3\tPrecision: 0.2\t\tRecall: 0.67\n",
            "Class: RP\tF1: 0.544\tSupport: 33\tPrecision: 0.4\t\tRecall: 0.85\n",
            "Class: TO\tF1: 1.000\tSupport: 366\tPrecision: 1.0\t\tRecall: 1.0\n",
            "Class: VB\tF1: 0.844\tSupport: 379\tPrecision: 0.86\t\tRecall: 0.83\n",
            "Class: VBD\tF1: 0.869\tSupport: 604\tPrecision: 0.88\t\tRecall: 0.86\n",
            "Class: VBG\tF1: 0.768\tSupport: 210\tPrecision: 0.76\t\tRecall: 0.77\n",
            "Class: VBN\tF1: 0.705\tSupport: 350\tPrecision: 0.7\t\tRecall: 0.71\n",
            "Class: VBP\tF1: 0.808\tSupport: 130\tPrecision: 0.86\t\tRecall: 0.76\n",
            "Class: VBZ\tF1: 0.919\tSupport: 271\tPrecision: 0.9\t\tRecall: 0.94\n",
            "Class: WDT\tF1: 0.829\tSupport: 79\tPrecision: 0.95\t\tRecall: 0.73\n",
            "Class: WP\tF1: 1.000\tSupport: 18\tPrecision: 1.0\t\tRecall: 1.0\n",
            "Class: WP$\tF1: 0.667\tSupport: 2\tPrecision: 1.0\t\tRecall: 0.5\n",
            "Class: WRB\tF1: 0.978\tSupport: 23\tPrecision: 1.0\t\tRecall: 0.96\n",
            "The F1-macro for ML-BiLSTM without -PAD- is: 0.792\n",
            "The percentage of classes with F1 score higher than 0.8 is 72.00%\n",
            "The percentage of classes with F1 score between 0.5 and 0.8 is 16.00% \n",
            "The percentage of classes with F1 score lower than 0.5 is 12.00% \n",
            "\n"
          ]
        }
      ],
      "source": [
        "models['ML_BiLSTM'].load_weights(checkpoint_path+'/ML_BiLSTM_10.hdf5')\n",
        "y_pred_ML_bi_lstm = unique_list(models['ML_BiLSTM'].predict(X_test, verbose=verbose), max_length)\n",
        "y_test_ML_bi_lstm = unique_list(y_test, max_length)\n",
        "_,_ = f1_score(y_test_ML_bi_lstm, y_pred_ML_bi_lstm, name='ML-BiLSTM without -PAD-', print_report=True, pad=False, printClasses=True)"
      ]
    },
    {
      "cell_type": "markdown",
      "source": [
        "Here the performance on the test set is 0.79, which is higher than the one on the validation set, 0.75. As we have done for the previous model, let's compare the performance of the model (ML-BiLSTM) on the validation and test splits. The green results are better F1 scores for the validation set, while the red results for the test split."
      ],
      "metadata": {
        "id": "BGaAVRvDJQwB"
      }
    },
    {
      "cell_type": "code",
      "source": [
        "diff_f1(f1_score(concat_val, unique_list(y_pred_val['ML_BiLSTM'], max_length), name = models['ML_BiLSTM'].name+' without -PAD- for VAL', print_report = False)[1], f1_score(y_test_bi_lstm, y_pred_bi_lstm, name = models['ML_BiLSTM'].name+' without -PAD- for TEST', print_report = False)[1], right_name='Test', string='validation and test')"
      ],
      "metadata": {
        "colab": {
          "base_uri": "https://localhost:8080/"
        },
        "id": "9tstbS1C3iES",
        "outputId": "78bcb14f-2b6a-4990-a844-b839ad48cd97"
      },
      "execution_count": 43,
      "outputs": [
        {
          "output_type": "stream",
          "name": "stdout",
          "text": [
            "The F1-macro for ML_BiLSTM without -PAD- for VAL is: 0.745\n",
            "The F1-macro for ML_BiLSTM without -PAD- for TEST is: 0.790\n",
            "F1 score difference between validation and test:\n",
            "Class: -PAD-\tF1 diff: \u001b[92m+0.0\u001b[0m\n",
            "Class: CC\tF1 diff: \u001b[92m+0.0\u001b[0m\n",
            "Class: CD\tF1 diff: \u001b[91m-0.02\u001b[0m\n",
            "Class: DT\tF1 diff: \u001b[92m+0.0\u001b[0m\n",
            "Class: EX\tF1 diff: \u001b[92m+0.04\u001b[0m\n",
            "Class: FW\tF1 diff: 0.0 (Not in the Test)\n",
            "Class: IN\tF1 diff: \u001b[92m+0.0\u001b[0m\n",
            "Class: JJ\tF1 diff: \u001b[91m-0.01\u001b[0m\n",
            "Class: JJR\tF1 diff: \u001b[92m+0.03\u001b[0m\n",
            "Class: JJS\tF1 diff: \u001b[91m-0.05\u001b[0m\n",
            "Class: MD\tF1 diff: \u001b[92m+0.0\u001b[0m\n",
            "Class: NN\tF1 diff: \u001b[91m-0.02\u001b[0m\n",
            "Class: NNP\tF1 diff: \u001b[91m-0.01\u001b[0m\n",
            "Class: NNPS\tF1 diff: \u001b[91m-0.12\u001b[0m\n",
            "Class: NNS\tF1 diff: \u001b[91m-0.01\u001b[0m\n",
            "Class: PDT\tF1 diff: \u001b[92m+0.0\u001b[0m\n",
            "Class: POS\tF1 diff: \u001b[92m+0.01\u001b[0m\n",
            "Class: PRP\tF1 diff: \u001b[92m+0.0\u001b[0m\n",
            "Class: PRP$\tF1 diff: \u001b[92m+0.0\u001b[0m\n",
            "Class: RB\tF1 diff: \u001b[91m-0.02\u001b[0m\n",
            "Class: RBR\tF1 diff: \u001b[91m-0.01\u001b[0m\n",
            "Class: RBS\tF1 diff: \u001b[92m+0.17\u001b[0m\n",
            "Class: RP\tF1 diff: \u001b[91m-0.1\u001b[0m\n",
            "Class: TO\tF1 diff: \u001b[92m+0.0\u001b[0m\n",
            "Class: UH\tF1 diff: 0.0 (Not in the Test)\n",
            "Class: VB\tF1 diff: \u001b[91m-0.18\u001b[0m\n",
            "Class: VBD\tF1 diff: \u001b[91m-0.07\u001b[0m\n",
            "Class: VBG\tF1 diff: \u001b[91m-0.04\u001b[0m\n",
            "Class: VBN\tF1 diff: \u001b[91m-0.02\u001b[0m\n",
            "Class: VBP\tF1 diff: \u001b[91m-0.05\u001b[0m\n",
            "Class: VBZ\tF1 diff: \u001b[92m+0.01\u001b[0m\n",
            "Class: WDT\tF1 diff: \u001b[91m-0.09\u001b[0m\n",
            "Class: WP\tF1 diff: \u001b[91m-0.01\u001b[0m\n",
            "Class: WP$\tF1 diff: \u001b[91m-0.2\u001b[0m\n",
            "Class: WRB\tF1 diff: \u001b[92m+0.0\u001b[0m\n"
          ]
        }
      ]
    },
    {
      "cell_type": "markdown",
      "source": [
        "As we can see, the macro F1 score of the validation is influenced by the classes UH and FW, as the previous model. Note that, for ML-BiLSTM, the F1 score for UH is worse than the UH's F1 score for BiLSTM."
      ],
      "metadata": {
        "id": "Rlf9bsGpB290"
      }
    },
    {
      "cell_type": "code",
      "source": [
        "punctuation = [\",\", \".\", \"''\", \":\", \"(\", \")\", \"``\", \"#\", \"{\", \"}\", '$', 'UH', 'FW']\n",
        "_ = f1_score(concat_val, unique_list(y_pred_val['ML_BiLSTM'], max_length), name = models['ML_BiLSTM'].name+' without -PAD- for VAL', print_report = False)[0]\n",
        "_ = f1_score(y_test_ML_bi_lstm, y_pred_ML_bi_lstm, name = models['ML_BiLSTM'].name+' without -PAD- for TEST', print_report = False)[0]\n",
        "punctuation = [\",\", \".\", \"''\", \":\", \"(\", \")\", \"``\", \"#\", \"{\", \"}\", '$']"
      ],
      "metadata": {
        "colab": {
          "base_uri": "https://localhost:8080/"
        },
        "id": "kjt4HIMQBjl9",
        "outputId": "0db9f07e-87ea-4afe-ae9e-1b3e3e542a79"
      },
      "execution_count": 44,
      "outputs": [
        {
          "output_type": "stream",
          "name": "stdout",
          "text": [
            "The F1-macro for ML_BiLSTM without -PAD- for VAL is: 0.791\n",
            "The F1-macro for ML_BiLSTM without -PAD- for TEST is: 0.792\n"
          ]
        }
      ]
    },
    {
      "cell_type": "markdown",
      "source": [
        "# 14. Bibliography and sitography\n",
        "\n",
        "- [Word Embedding and GloVe, Towards Data Science](https://medium.com/@jonathan-hui/nlp-word-embedding-glove-5e7f523999f6);\n",
        "- [Handling OOV, Towards Data Science](https://medium.com/analytics-vidhya/handling-out-of-vocabulary-words-in-natural-language-processing-based-on-context-4bbba16214d5);\n",
        "- [LSTM and GloVe, Towards Data Science](https://medium.com/towards-data-science/classify-toxic-online-comments-with-lstm-and-glove-e455a58da9c7);\n",
        "- [Padding and Masking, Towards Data Science](https://medium.com/@shailaja21/preprocessing-sequence-data-in-keras-padding-masking-techniques-aa087fe7319c);\n",
        "- [Multi-Class Text Classification with LSTM, Towards Data Science](https://medium.com/towards-data-science/multi-class-text-classification-with-lstm-1590bee1bd17);\n",
        "- [Units in LSTM, Coding Notes](https://tung2389.github.io/coding-note/unitslstm);\n",
        "- [Difference between LSTM recurrent dropout and dropout, StackOverflow](https://stackoverflow.com/questions/44924690/keras-the-difference-between-lstm-dropout-and-lstm-recurrent-dropout);\n",
        "- [GloVe Official Website](https://nlp.stanford.edu/projects/glove/);\n",
        "- [Scikit-Learn Official Website](https://scikit-learn.org/stable/);\n",
        "- [Keras Official Website](https://keras.io).\n"
      ],
      "metadata": {
        "id": "_BLtWrjo1N3H"
      }
    },
    {
      "cell_type": "markdown",
      "source": [
        "#GitHub Repository\n",
        "You can find the PDF, the notebook and the model weights on:\n",
        "https://github.com/DitucSpa/POS_Tagging_NLP"
      ],
      "metadata": {
        "id": "tu4UehmoO4jy"
      }
    }
  ],
  "metadata": {
    "colab": {
      "collapsed_sections": [
        "g10GGVj9hlFH",
        "jY0MAkV_8PlE",
        "nH089Sbn8a-f",
        "ZZrLvFqj2a-a",
        "FBvJbVok8uh0",
        "KxyVGB5b9fA6",
        "QE126aDp4TIY",
        "UQQpDqgI4bE-",
        "1N0ZIFLez182",
        "DFx5EJGU4BWo",
        "CYDsfY9cGgrt",
        "-xaiKBYfo-ej",
        "6deLYFur61cs"
      ],
      "provenance": []
    },
    "kernelspec": {
      "display_name": "Python 3",
      "name": "python3"
    },
    "language_info": {
      "name": "python"
    },
    "gpuClass": "standard"
  },
  "nbformat": 4,
  "nbformat_minor": 0
}